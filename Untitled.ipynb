{
 "cells": [
  {
   "cell_type": "code",
   "execution_count": 32,
   "metadata": {},
   "outputs": [],
   "source": [
    "import numpy as np\n",
    "from numpy.linalg import inv \n",
    "from functools import reduce"
   ]
  },
  {
   "cell_type": "code",
   "execution_count": 51,
   "metadata": {},
   "outputs": [],
   "source": [
    "def nonsingular_solver(A):\n",
    "    \"\"\"Solve the game with non-singular matrix A.\n",
    "    Returns a dict with keys v, p, and q.\"\"\"\n",
    "    # row vector of 1's that can be multiplied by A^-1 \n",
    "    ones = np.full(A.shape[1],1)\n",
    "    \n",
    "    value = 1/reduce(np.matmul, [ones, inv(A), ones.transpose()])\n",
    "    q = np.matmul(inv(A), ones.transpose()) / reduce(np.matmul, [ones, inv(A), ones.transpose()])\n",
    "    p = np.matmul(ones, inv(A)) / reduce(np.matmul, [ones, inv(A), ones.transpose()])\n",
    "    return {'v': value, 'p': p, 'q': q}"
   ]
  },
  {
   "cell_type": "code",
   "execution_count": 52,
   "metadata": {},
   "outputs": [],
   "source": [
    "A = np.array([[1,2,-1],[2,-1,4],[-1,4,-3]])"
   ]
  },
  {
   "cell_type": "code",
   "execution_count": 53,
   "metadata": {},
   "outputs": [
    {
     "data": {
      "text/plain": [
       "{'v': 1.0, 'p': array([0.25, 0.5 , 0.25]), 'q': array([0.25, 0.5 , 0.25])}"
      ]
     },
     "execution_count": 53,
     "metadata": {},
     "output_type": "execute_result"
    }
   ],
   "source": [
    "nonsingular_solver(A)"
   ]
  },
  {
   "cell_type": "code",
   "execution_count": 16,
   "metadata": {},
   "outputs": [],
   "source": [
    "ones = np.full(A.shape[1],1)"
   ]
  },
  {
   "cell_type": "code",
   "execution_count": 17,
   "metadata": {},
   "outputs": [
    {
     "data": {
      "text/plain": [
       "array([1, 1, 1])"
      ]
     },
     "execution_count": 17,
     "metadata": {},
     "output_type": "execute_result"
    }
   ],
   "source": [
    "ones"
   ]
  },
  {
   "cell_type": "code",
   "execution_count": null,
   "metadata": {},
   "outputs": [],
   "source": []
  }
 ],
 "metadata": {
  "kernelspec": {
   "display_name": "Python 3",
   "language": "python",
   "name": "python3"
  },
  "language_info": {
   "codemirror_mode": {
    "name": "ipython",
    "version": 3
   },
   "file_extension": ".py",
   "mimetype": "text/x-python",
   "name": "python",
   "nbconvert_exporter": "python",
   "pygments_lexer": "ipython3",
   "version": "3.7.5"
  }
 },
 "nbformat": 4,
 "nbformat_minor": 2
}
