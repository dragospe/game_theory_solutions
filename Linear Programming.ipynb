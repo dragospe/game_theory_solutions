{
 "cells": [
  {
   "cell_type": "markdown",
   "metadata": {},
   "source": [
    "# Problem 1:\n",
    "\n",
    "Consider the linear programming problem: Find $y_1$ and $y_2$ to minimize $y_1+y_2$ subject to the constraints \n",
    "\n",
    "$$\\begin{align*}\n",
    "y_1+2y_2 &\\geq 3\\\\\n",
    "2y_1+y_2 & \\geq 5\\\\\n",
    "y_2 & \\geq 0.\n",
    "\\end{align*}$$\n",
    "\n",
    "Graph the constraint set and solve.\n",
    "\n",
    "------"
   ]
  },
  {
   "cell_type": "markdown",
   "metadata": {},
   "source": [
    "First, we'll do it graphically. Then we'll try with PuLP."
   ]
  },
  {
   "cell_type": "code",
   "execution_count": 1,
   "metadata": {},
   "outputs": [],
   "source": [
    "import numpy as np\n",
    "import matplotlib.pyplot as plt"
   ]
  },
  {
   "cell_type": "code",
   "execution_count": 21,
   "metadata": {},
   "outputs": [
    {
     "data": {
      "text/plain": [
       "(0, 4)"
      ]
     },
     "execution_count": 21,
     "metadata": {},
     "output_type": "execute_result"
    },
    {
     "data": {
      "image/png": "[encoded data removed]",
      "text/plain": [
       "<Figure size 432x288 with 1 Axes>"
      ]
     },
     "metadata": {
      "needs_background": "light"
     },
     "output_type": "display_data"
    }
   ],
   "source": [
    "y1 = np.linspace(0,4,100)\n",
    "plt.plot(y1, (3-y1)/2, 'r', y1, 5-2*y1, 'b')\n",
    "plt.ylim(0,4)"
   ]
  },
  {
   "cell_type": "markdown",
   "metadata": {},
   "source": [
    "Since the objective function has slope $-1$, it falls out of the contraint set (the region on the right of the graph) when the lines intersect. This means that\n",
    "\n",
    "$$\\frac{3-y_1}{2} = 5-2*y_1 \\implies y_1 = \\frac{7}{3} \\implies y_2 = \\frac{1}{3}.$$\n",
    "\n",
    "We verify with PuLP"
   ]
  },
  {
   "cell_type": "code",
   "execution_count": 20,
   "metadata": {},
   "outputs": [
    {
     "data": {
      "text/plain": [
       "1"
      ]
     },
     "execution_count": 20,
     "metadata": {},
     "output_type": "execute_result"
    }
   ],
   "source": [
    "from pulp import *\n",
    "problem = LpProblem(\"Ferguson_Problem_1\", LpMinimize)\n",
    "\n",
    "y1 = LpVariable(\"y1\", None)\n",
    "y2 = LpVariable(\"y2\", 0)\n",
    "\n",
    "problem += y1+y2\n",
    "problem += y1+2*y2 >= 3\n",
    "problem += 2*y1+y2 >= 5\n",
    "\n",
    "problem.writeLP(\"problem1.lp\")\n",
    "\n",
    "problem.solve()\n"
   ]
  },
  {
   "cell_type": "code",
   "execution_count": 17,
   "metadata": {},
   "outputs": [
    {
     "name": "stdout",
     "output_type": "stream",
     "text": [
      "Status: Optimal\n"
     ]
    }
   ],
   "source": [
    "print(\"Status:\", LpStatus[problem.status])"
   ]
  },
  {
   "cell_type": "code",
   "execution_count": 18,
   "metadata": {},
   "outputs": [
    {
     "name": "stdout",
     "output_type": "stream",
     "text": [
      "y1 = 2.3333333\n",
      "y2 = 0.33333333\n"
     ]
    }
   ],
   "source": [
    "for v in problem.variables():\n",
    "    print(v.name, '=', v.varValue)"
   ]
  },
  {
   "cell_type": "code",
   "execution_count": null,
   "metadata": {},
   "outputs": [],
   "source": []
  },
  {
   "cell_type": "markdown",
   "metadata": {},
   "source": [
    "# Problem 2\n",
    "\n",
    "Find $x_1$ and $x_2$ to maximize $ax_1+x_2$ subject to the constraints in the numerical example of Figure 1. Find the value as a function of $a$.\n",
    "\n",
    "-----\n",
    "\n",
    "We now want to maximize $ax_1+x_2$ subject to the constraints\n",
    "$$\\begin{align*}\n",
    "x_1 & \\geq 0\\\\\n",
    "x_2 & \\geq 0\\\\\n",
    "x_1+2x_2 &\\leq 4\\\\\n",
    "4x_1+2x_2 &\\leq 12\\\\\n",
    "-x_1+x_2 &\\leq 1.\n",
    "\\end{align*}$$\n",
    "\n",
    "as a function of $a$.\n",
    "\n",
    "Graphing gives:"
   ]
  },
  {
   "cell_type": "code",
   "execution_count": 29,
   "metadata": {},
   "outputs": [
    {
     "data": {
      "text/plain": [
       "(-1, 8)"
      ]
     },
     "execution_count": 29,
     "metadata": {},
     "output_type": "execute_result"
    },
    {
     "data": {
      "image/png": "[encoded data removed]",
      "text/plain": [
       "<Figure size 432x288 with 1 Axes>"
      ]
     },
     "metadata": {
      "needs_background": "light"
     },
     "output_type": "display_data"
    }
   ],
   "source": [
    "x1=np.linspace(-4,10,100)\n",
    "\n",
    "plt.plot(x1, (4-x1)/2, 'r', x1, (12-4*x1)/2, 'y', x1, 1+x1, 'g', x1, x1*0)\n",
    "plt.ylim(-1,8)"
   ]
  },
  {
   "cell_type": "markdown",
   "metadata": {},
   "source": [
    "Now, the slope the function $ax_1+x_2=c$ is $-a.$\n",
    "\n",
    " * If the slope is *as steep or steeper* (i.e., equally or more negative) than that of the yellow line, then the line furthest from the origin is that which intersects at the **yellow** and **blue** lines at the point (3,0).\n",
    "\n",
    " * If it has a (negative) steepness between that of the red and yellow lines, the intersection occurs at the **red** and **yellow** lines at the point (8/3,2/3).\n",
    " * If it has slope between the red and green lines, it intersects at the **red** and **green** lines at the point (2/3,5/3).\n",
    " * If it has slope great than the green line, it \n",
    "\n",
    " * If it has a positive slope greater than the  green line, then it occurs at green line and the $y$ axis at (1,0).\n",
    " \n",
    "The slopes of the red, green, yellow, and blue lines are $m_r = -.5, m_g=1, m_y=-2, m_b=0.$\n",
    "\n",
    "Hence, we will have\n",
    "\n",
    "$$v(a) = \\begin{cases}\n",
    "3a &  -\\infty < -a \\leq -2\\\\\n",
    "a*\\frac{8}{3}+ \\frac{2}{3} & -2 < -a \\leq -.5\\\\\n",
    "a\\frac{4}{3} + \\frac{7}{3}& -.5 < -a \\leq 1\\\\\n",
    "1 & 1 < -a < \\infty\\\\\n",
    "\\end{cases}$$\n",
    "\n"
   ]
  },
  {
   "cell_type": "code",
   "execution_count": null,
   "metadata": {},
   "outputs": [],
   "source": []
  }
 ],
 "metadata": {
  "kernelspec": {
   "display_name": "Python 3",
   "language": "python",
   "name": "python3"
  },
  "language_info": {
   "codemirror_mode": {
    "name": "ipython",
    "version": 3
   },
   "file_extension": ".py",
   "mimetype": "text/x-python",
   "name": "python",
   "nbconvert_exporter": "python",
   "pygments_lexer": "ipython3",
   "version": "3.7.5"
  }
 },
 "nbformat": 4,
 "nbformat_minor": 2
}
