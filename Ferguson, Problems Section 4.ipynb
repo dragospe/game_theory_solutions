{
 "cells": [
  {
   "cell_type": "markdown",
   "metadata": {},
   "source": [
    "# Problem 4.1\n",
    "Consider the game with matrix $A$. Past experience in playing the game with player **II** enables player **I** to arrive at a set of probabilities reflecting his belief of the column that **II** will choose. **I** thinks that with probabilities 1/5, 1/5, 1/5, and 2/5, **II** will choose colums 1, 2, 3, and 4 respectively.\n",
    "\n",
    "$$A = \\begin{pmatrix} 0 &7 & 2 & 4 \\\\ 1 & 4 & 8 & 2\\\\ 9 & 3 & -1 & 6 \\end{pmatrix}$$\n",
    "\n",
    " * Find for **I** a Bayes strategy (best response) against (1/5, 1/5, 1/5, 2/5).\n",
    " * Suppose **II** guesses correctly that **I** is going to use a Bayes strategy against (1/5,1/5,1/5,2/5). Instruct **II** on the strategy she should use - that is, find **II**'s Bayes strategy against **I**'s Bayes strategy against 1/5,1/5,1/5,2/5."
   ]
  },
  {
   "cell_type": "markdown",
   "metadata": {},
   "source": [
    "*Solution:* The principle of indifference means that there is a pure strategy for player **I** that is a bayes strategy. We calculate the average payoff when **I** plays row *i* against **II** as $a_i:$"
   ]
  },
  {
   "cell_type": "code",
   "execution_count": 2,
   "metadata": {},
   "outputs": [
    {
     "data": {
      "text/plain": [
       "array([[3.4],\n",
       "       [3.4],\n",
       "       [4.6]])"
      ]
     },
     "execution_count": 2,
     "metadata": {},
     "output_type": "execute_result"
    }
   ],
   "source": [
    "import numpy as np\n",
    "A = np.array([[0,7,2,4],[1,4,8,2],[9,3,-1,6]])\n",
    "q = np.array([[1/5],[1/5],[1/5],[2/5]])\n",
    "\n",
    "np.matmul(A,q)"
   ]
  },
  {
   "cell_type": "markdown",
   "metadata": {},
   "source": [
    "Thus, **I** will play row 3.\n",
    "\n",
    "In this  case, **II** will play column 3, since it is the smallest of the payoffs (least loss) in the column."
   ]
  },
  {
   "cell_type": "markdown",
   "metadata": {},
   "source": [
    "# Problem 4.2\n",
    "\n",
    "The game with matrix $A$ has value zero, and $(6/11,3/11,2/11)$ is optimal for $I$.\n",
    "\n",
    "$$A = \\begin{pmatrix} 0 & -1 & 1 \\\\ 2 & 0 & -2 \\\\ -3 & 3 &0 \\end{pmatrix} \\qquad B = \\begin{pmatrix} 5 & 3 & 7 \\\\ 9 & 5 & 1 \\\\ -1 & 11 & 5 \\end{pmatrix}$$\n",
    "\n",
    " * Find the value of the game with matrix $B$ and an optimal strategy for *I*\n",
    " * Find an optimal strategy for **II** in both games\n",
    " \n",
    " "
   ]
  },
  {
   "cell_type": "markdown",
   "metadata": {},
   "source": [
    "*Solution:*"
   ]
  },
  {
   "cell_type": "code",
   "execution_count": 3,
   "metadata": {},
   "outputs": [],
   "source": [
    "A = np.array([[0,-1,1],[2,0,-2],[-3,3,0]])\n",
    "B = np.array([[5,3,7],[9,5,1],[-1,11,5]])"
   ]
  },
  {
   "cell_type": "code",
   "execution_count": 7,
   "metadata": {},
   "outputs": [
    {
     "data": {
      "text/plain": [
       "array([[ True,  True,  True],\n",
       "       [ True,  True,  True],\n",
       "       [ True,  True,  True]])"
      ]
     },
     "execution_count": 7,
     "metadata": {},
     "output_type": "execute_result"
    }
   ],
   "source": [
    "A*2+5 == B"
   ]
  },
  {
   "cell_type": "markdown",
   "metadata": {},
   "source": [
    "Hence, by lemma 3, the value of the game with matrix $B$ is 5, and $p = (6/11,3/11,2/11)$"
   ]
  },
  {
   "cell_type": "code",
   "execution_count": 9,
   "metadata": {},
   "outputs": [
    {
     "data": {
      "text/plain": [
       "array([[0., 0., 0.]])"
      ]
     },
     "execution_count": 9,
     "metadata": {},
     "output_type": "execute_result"
    }
   ],
   "source": [
    "p = np.array([[6/11,3/11,2/11]])\n",
    "np.matmul(p,A)"
   ]
  },
  {
   "cell_type": "markdown",
   "metadata": {},
   "source": [
    "Since this gives 0 in all cases, any column in equal probability gives an optimal strategy for $II$; i.e., $q = (1/3,1/3,1/3)$."
   ]
  },
  {
   "cell_type": "markdown",
   "metadata": {},
   "source": [
    "# Problem 4.4:\n",
    "\n",
    "Use the method presented in section 4.5 to solve the game with matrix $$A = \\begin{pmatrix} 0 & 1 2 \\\\ 2 & -1 & -2  \\\\ 3 & -3 & 0 \\end{pmartix}.$$\n",
    "\n",
    "*Solution:*\n",
    "\n",
    "Following the pivot method, we get $$v = 1/2, p=(3/4,1/4,0), q= (1/2,1/2,0).$$"
   ]
  },
  {
   "cell_type": "code",
   "execution_count": null,
   "metadata": {},
   "outputs": [],
   "source": []
  }
 ],
 "metadata": {
  "kernelspec": {
   "display_name": "Python 3",
   "language": "python",
   "name": "python3"
  },
  "language_info": {
   "codemirror_mode": {
    "name": "ipython",
    "version": 3
   },
   "file_extension": ".py",
   "mimetype": "text/x-python",
   "name": "python",
   "nbconvert_exporter": "python",
   "pygments_lexer": "ipython3",
   "version": "3.7.5"
  }
 },
 "nbformat": 4,
 "nbformat_minor": 2
}
