{
 "cells": [
  {
   "cell_type": "markdown",
   "metadata": {},
   "source": [
    "----\n",
    "# Problem 1\n",
    "\n",
    "Consider the game with matrix $\\begin{pmatrix} -2 & 2 & -1 \\\\ 1 & 1 & 1 \\\\ 3 & 0 & 1 \\end{pmatrix}$\n",
    "\n",
    " * Note that this game has a saddle point\n",
    " * Show that the inverse of the matrix exists\n",
    " * Show that II has an optimal strategy giving positive weight to each of his columns\n",
    " * Why then, don't equations (16) give an optimal strategy for II?"
   ]
  },
  {
   "cell_type": "markdown",
   "metadata": {},
   "source": [
    "*Solution:* The saddle point is in the second row, third column: it is the minimum of the row and maximum of the column. This means the value of the game is 1.\n",
    "\n",
    "Calculating the determinant across the third row gives:\n",
    "\n",
    "$$|A| = 3*(2+1) + (-2-2) = 9-4=5.$$\n",
    "\n",
    "So the matrix is non-singular.\n",
    "\n",
    "\n"
   ]
  },
  {
   "cell_type": "code",
   "execution_count": 1,
   "metadata": {},
   "outputs": [],
   "source": [
    "import numpy as np"
   ]
  },
  {
   "cell_type": "code",
   "execution_count": 2,
   "metadata": {},
   "outputs": [],
   "source": [
    "A =np.array([[-2,2,-1],[1,1,1],[3,0,1]])"
   ]
  },
  {
   "cell_type": "code",
   "execution_count": 10,
   "metadata": {},
   "outputs": [
    {
     "data": {
      "text/plain": [
       "array([[ 0.2, -0.4,  0.6],\n",
       "       [ 0.4,  0.2,  0.2],\n",
       "       [-0.6,  1.2, -0.8]])"
      ]
     },
     "execution_count": 10,
     "metadata": {},
     "output_type": "execute_result"
    }
   ],
   "source": [
    "np.linalg.inv(A)"
   ]
  },
  {
   "cell_type": "markdown",
   "metadata": {},
   "source": [
    "Hence if we want to solve \n",
    "\n",
    "$$\\begin{pmatrix} -2 & 2 & 1 \\\\ 1 & 1 & 1 \\\\ 3 & 0 &1 \\end{pmatrix} \\begin{pmatrix} p_1 \\\\ p_2 \\\\ p_3 \\end{pmatrix} = \\begin{pmatrix} 1 \\\\ 1 \\\\ 1 \\end{pmatrix}$$\n",
    "\n",
    "We do"
   ]
  },
  {
   "cell_type": "code",
   "execution_count": 11,
   "metadata": {},
   "outputs": [],
   "source": [
    "ones = np.full([3,1],1)"
   ]
  },
  {
   "cell_type": "code",
   "execution_count": 20,
   "metadata": {},
   "outputs": [],
   "source": [
    "p = np.array([[1/4],[1/2],[1/4]])"
   ]
  },
  {
   "cell_type": "code",
   "execution_count": 21,
   "metadata": {},
   "outputs": [
    {
     "data": {
      "text/plain": [
       "array([[0.25],\n",
       "       [1.  ],\n",
       "       [1.  ]])"
      ]
     },
     "execution_count": 21,
     "metadata": {},
     "output_type": "execute_result"
    }
   ],
   "source": [
    "np.matmul(A,p)"
   ]
  },
  {
   "cell_type": "markdown",
   "metadata": {},
   "source": [
    "Hence $p=(1/4,1/2,1/4)$ is an optimal strategy. \n",
    "\n",
    "The equations in (16) don't get an optimal strategy for 1, because 1 does not have an optimal strategy giving positive weight to each row."
   ]
  },
  {
   "cell_type": "code",
   "execution_count": null,
   "metadata": {},
   "outputs": [],
   "source": []
  },
  {
   "cell_type": "markdown",
   "metadata": {},
   "source": [
    "# Problem 3.2\n",
    "\n",
    "Consider the diagonal matrix game with matrix\n",
    "\n",
    "$$A=\\begin{pmatrix} d_1 & 0 & \\cdots & 0\\\\ 0 & d_2 & \\cdots & 0\\\\ \\vdots & \\vdots & \\ddots & \\vdots \\\\0 & 0 & \\cdots &d_m \\end{pmatrix}$$\n",
    "\n",
    " * Suppose one of the diagonal terms is 0. What is the value of the game?\n",
    " * Suppose one of the diagonal terms is positive and another is negative. What is the value of the game?\n",
    " * Suppose all of the diagonal terms is negative. What is the value of the game?\n"
   ]
  },
  {
   "cell_type": "markdown",
   "metadata": {},
   "source": [
    "*Solution:* If one of the diagonal terms is 0, then it is a saddle point; hence the value of the game is 0.\n",
    "\n",
    "If one of the terms is positive and another is negative, then the row with the positive value dominated the row with the negative value, and the row with the negative value can be removed. Hence, all rows with negative values can be removed. This leaves columns of 0's, which dominate all positive columns. Hence the value of the game is 0.\n",
    "\n",
    "Another way to see this is to note that if $x_{ij}>0$ and $x_{mn}<0$, then $x_{in}=0$ is the minimum of its row and the maximum of its column. Hence it is a saddle point, and the value of 0.\n",
    "\n",
    "If all of the diagonal terms are negative, then by the same method used in the text, we have that $V = (\\sum_{i=1}^m1/d_i)^{-1}$. In this case, $V$ is negative, so $p_i=V/d_i$ is postive and gives an optimal strategy."
   ]
  },
  {
   "cell_type": "code",
   "execution_count": null,
   "metadata": {},
   "outputs": [],
   "source": []
  },
  {
   "cell_type": "markdown",
   "metadata": {},
   "source": [
    "# Problem 4\n",
    "\n",
    "Player II choses a number $j \\in \\{1,2,3,4\\}$ and player I tries to guess what it is. If he guess correctly, he wins 1 from II. If he overestimates, he wins 1/2 from II. If he underestimates, there is no payoff. Set up the matrix and solve."
   ]
  },
  {
   "cell_type": "markdown",
   "metadata": {},
   "source": [
    "The matrix is given by\n",
    "\n",
    "$$A = \\begin{pmatrix} 1 & 0 & 0 & 0\\\\ 1/2 & 1 & 0 & 0\\\\ 1/2 & 1/2 & 1 &0\\\\ 1/2 & 1/2 & 1/2 &1\\end{pmatrix}$$"
   ]
  },
  {
   "cell_type": "markdown",
   "metadata": {},
   "source": [
    "It is upper triangular, so (hypothesizing the there is an *all strategies active* situation), we have:\n",
    "\n",
    " * $p_4 = V$\n",
    " * $(1/2)p_4+p_3 = V$\n",
    " * $(1/2)p_4+(1/2)p_3+p_2 = V$\n",
    " * $(1/2)p_4+(1/2)p_3+(1/2)p_2+p_1 = V$\n",
    " \n",
    " Which gives \n",
    " \n",
    "  * $p_4 = V$\n",
    "  * $p_3 = (1/2)V$\n",
    "  * $p_2 = (1/4)V$\n",
    "  * $p_1 = (1/8)V$"
   ]
  },
  {
   "cell_type": "markdown",
   "metadata": {},
   "source": [
    "Thus \n",
    " \n",
    " $$ p_1+p_2+p_3+p_4 = 1 = 15/8 V$$\n",
    " \n",
    " and so $V = 8/15$.\n",
    " \n",
    " Hence $$p=(1/15,2/15,4/15, 8/15).$$"
   ]
  },
  {
   "cell_type": "markdown",
   "metadata": {},
   "source": [
    "The equations for $q$ are given as\n",
    "\n",
    " * $q_1 = V$\n",
    " * $q_2 + (1/2) q_1 =V$\n",
    " * $q_3+(1/2)q_2+(1/2)q_1 = V$\n",
    " * $q_4+(1/2)q_3+(1/2)q_2+(1/2)q_1 =V$\n",
    " \n",
    " which we recognize as by similar to the equations of the $p_i$'s. Hence\n",
    " \n",
    " $$q=(8/16,4/5,2/15,1/15)$$ follows immediately, and since none of the $p$'s or $q$'s are negative, we conclude that each is an optimal strategy, and $V$ is the value."
   ]
  },
  {
   "cell_type": "markdown",
   "metadata": {},
   "source": [
    "# Problem 6\n",
    "\n",
    "Player II choses a number $j \\in \\{1,2,\\ldots,n\\}, n \\geq 2,$ and player I tries to guess what it is by guessing some $i \\ in \\{1,2,\\ldots,n\\}$. If he guesses correctly, $i.e., i=j$, he wins 1. If $i > j$, he wins $b^{i-j}$ for some number $b<1.$ Otherwise, if $i<j,$ he wins nothings. Set up the matrix and solve.\n",
    "\n",
    "--------\n",
    "\n",
    "\n",
    "The game matrix is:\n",
    "\n",
    "$$A =\n",
    "\\begin{pmatrix}\n",
    "1 & 0 &  0 &\\cdots& 0 \\\\\n",
    "b & 1 & 0 & &  \\vdots \\\\\n",
    "b^2 & b & 1 & & \\vdots\\\\\n",
    "\\vdots & \\vdots && \\ddots & \\vdots \\\\\n",
    "b^{n-1} & b^{n-2} & \\cdots & b &1\n",
    "\\end{pmatrix}\n",
    "$$"
   ]
  },
  {
   "cell_type": "markdown",
   "metadata": {},
   "source": [
    "It is clear that the inverse of $A$ is given by\n",
    "\n",
    "$$B= \n",
    "\\begin{pmatrix}\n",
    "1 & 0 &  0 &\\cdots& 0 \\\\\n",
    "-b & 1 & 0 & &  \\vdots \\\\\n",
    "0 & -b & 1 & & \\vdots\\\\\n",
    "\\vdots & \\vdots && \\ddots & \\vdots \\\\\n",
    "0 & 0 & \\cdots & -b &1\n",
    "\\end{pmatrix}$$"
   ]
  },
  {
   "cell_type": "markdown",
   "metadata": {},
   "source": [
    "For if $C = AB$, then the entry $c_{ij}$ is given by the $j$th column of $B$ times $i$th row of $A$; but the $j$th column is 0 at all indices except $j$ and $j+1$.\n",
    "\n",
    "Hence \n",
    "\n",
    "$$c_{ij} = 1a_{ij} -ba_{i(j+1)} = \\begin{cases} b^\n",
    "{i-j}k-b*b^{i-j-1} = 0 & i < j \\\\\n",
    "1-0b=1 & i =j\\\\\n",
    "0 & i > j \\end{cases}$$"
   ]
  },
  {
   "cell_type": "markdown",
   "metadata": {},
   "source": [
    "which means that $C = i$.\n",
    "\n",
    "Hence $A$ is invertivable. Using theorem 3.2, we see that a candidate for the value of the game is \n",
    "\n",
    "$$V = 1/\\mathbf{1}^TB\\mathbf{1} = \\frac{1}{(n-1)(1-b)+1}.$$\n",
    "\n",
    "This would give the optimal strategy for $q$ as\n",
    "\n",
    "$$q = B\\mathbf{1}V = (V,(1-b)V,\\ldots, (1-b)V$$\n",
    "\n",
    "and $$ p^T = \\mathbf{1}^TA^{-1}V = ((1-b)V,\\ldots,(1-b)V,V).$$\n",
    "\n",
    "Since all values are positive, the strategy is optimal."
   ]
  },
  {
   "cell_type": "code",
   "execution_count": null,
   "metadata": {},
   "outputs": [],
   "source": []
  },
  {
   "cell_type": "markdown",
   "metadata": {},
   "source": [
    "# Problem 7 \n",
    "\n",
    "**The Pascal Matrix Game **\n",
    "\n",
    "The Pascal matrix of order $n$ is the $n \\times n$ matrix $\\mathbf{B}_n$ of of elements $b_{ij},$ where\n",
    "\n",
    "$$b_{ij} = \\binom{i-1}{j-1}$$ if $i \\geq j$ and 0 otherwise. "
   ]
  },
  {
   "cell_type": "markdown",
   "metadata": {},
   "source": [
    "The $i$th row of $B_n$ consists of the binomial coefficients in the expansion of $(x+y)^i$. The inverse matrix $A_n$ is given by $a_{ij} = (-1)^{i+j}b_{ij}$ (Call and Velleman (1993).). Find the value and optimal strategies for the matrix $A_n$."
   ]
  },
  {
   "cell_type": "markdown",
   "metadata": {},
   "source": [
    "---------\n",
    "\n",
    "We will attempt to proceed via theorem 3.2. We have\n",
    "\n",
    "$$B_n = \\begin{pmatrix} 1 &0 &  & \\cdots &  &  & 0 \\\\\n",
    "1 & 1 & 0 \\\\\n",
    "1&2&1&0 \\\\\n",
    "1&3&3&1&0\\\\\n",
    "1&4&6&4&1 & \\ddots\\\\\n",
    "& \\vdots\n",
    "\\end{pmatrix}$$"
   ]
  },
  {
   "cell_type": "markdown",
   "metadata": {},
   "source": [
    "To apply theorem 3.2, we must compute $\\mathbf{1}^TB_n\\mathbf{1}.$ Now, since the rows contain the binomial coefficients of $(x+y)^i$, we can note that the sum of each row is given by $2^{i-1};$ each power to which $(x+y)$ is raised creates a product of the form\n",
    "\n",
    "$$\\underbrace{(x+y)(x+y)(x+y) \\cdots(x+y)}_{\\text{$i$ times}}$$\n",
    "\n",
    "and, by the multiplication principle, this gives the desired $2^{i-1}$ terms in the resulting product (which, when liked terms are group, gives the coefficients in the $i$th row.)\n",
    "\n",
    "Hence, the sum of the rows of the matrix $B_n$ will be $B_n\\mathbf{1}=(1,2,4,8,16,\\ldots,2^{n-1})^T$\n",
    "\n"
   ]
  },
  {
   "cell_type": "markdown",
   "metadata": {},
   "source": [
    "And the sum of these gives $\\mathbf{1}^TB_n\\mathbf{1}=2^{n}-1.$\n",
    "\n",
    "Hence, from theorem 3.2, we will have $$V = \\frac{1}{2^n-1}.$$\n",
    "\n",
    "This gives\n",
    "\n",
    "$$q=\\frac{1}{2^n-1}(1,2,4,8,16,\\ldots,2^{n-1}).$$\n",
    "\n",
    "The sum of the $j$th column of $B_n$ will be given as \n",
    "\n",
    "$$s_j = \\sum_{k=0}^{n-j} \n",
    "\n",
    "### Finish this off with a nice proof of pascals stuff\n"
   ]
  },
  {
   "cell_type": "code",
   "execution_count": null,
   "metadata": {},
   "outputs": [],
   "source": []
  }
 ],
 "metadata": {
  "kernelspec": {
   "display_name": "Python 3",
   "language": "python",
   "name": "python3"
  },
  "language_info": {
   "codemirror_mode": {
    "name": "ipython",
    "version": 3
   },
   "file_extension": ".py",
   "mimetype": "text/x-python",
   "name": "python",
   "nbconvert_exporter": "python",
   "pygments_lexer": "ipython3",
   "version": "3.7.5"
  }
 },
 "nbformat": 4,
 "nbformat_minor": 2
}
