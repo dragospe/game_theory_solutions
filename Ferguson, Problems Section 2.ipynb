{
 "cells": [
  {
   "cell_type": "markdown",
   "metadata": {},
   "source": [
    "# Problems, Chapter 2"
   ]
  },
  {
   "cell_type": "markdown",
   "metadata": {},
   "source": [
    "### 1.) Solve the game with matrix $\\begin{pmatrix} -1 & -3 \\\\ -2 & 2\\end{pmatrix}$, that is find the value and an optimal mixed strategy for both players."
   ]
  },
  {
   "cell_type": "markdown",
   "metadata": {},
   "source": [
    "*Solution:* The matrix has no saddle points. From the formulas $$p = \\frac{c-d}{(a-b)+(c-d)}, \\quad q = \\frac{c-b}{a-b+c-d}, \\quad v = \\frac{ac-bd}{a-b+c-d},$$ we have:"
   ]
  },
  {
   "cell_type": "code",
   "execution_count": 2,
   "metadata": {},
   "outputs": [
    {
     "name": "stdout",
     "output_type": "stream",
     "text": [
      "Optimal probability player I choses row 1: 0.6666666666666666\n",
      "Optimal probability player II choses row 2: 0.8333333333333334\n",
      "Value of [[-1, -3], [-2, 2]]: -1.3333333333333333\n"
     ]
    }
   ],
   "source": [
    "A = [[-1, -3], [-2, 2]]\n",
    "# Recall A = [[a,b],[d,c]]\n",
    "\n",
    "\n",
    "def solve_2x2(A):\n",
    "    def p(A):\n",
    "        return (A[1][1]-A[1][0])/(A[0][0]-A[0][1]+A[1][1]-A[1][0])\n",
    "    def q(A):\n",
    "        return (A[1][1]-A[0][1])/(A[0][0]-A[0][1]+A[1][1]-A[1][0])\n",
    "    def v(A):\n",
    "        return (A[0][0]*A[1][1]-A[0][1]*A[1][0])/(A[0][0]-A[0][1]+A[1][1]-A[1][0])\n",
    "    print(\"Optimal probability player I choses row 1: \" + str(p(A)))\n",
    "    print(\"Optimal probability player II choses row 2: \" + str(q(A)))\n",
    "    print(\"Value of \" + str(A) +\": \" + str(v(A)))\n",
    "\n",
    "solve_2x2(A)"
   ]
  },
  {
   "cell_type": "markdown",
   "metadata": {},
   "source": [
    "\n",
    "------------------\n",
    "### 2.) Solve the game with matrix $\\begin{pmatrix} 0 & 2\\\\ t & 1 \\end{pmatrix}$ for an arbitrary real number $t$. (Don't forget to check for a saddle point!) Draw the graph of $v(t)$, the value of the game, as a function of $t$, of $-\\infty < t < \\infty$."
   ]
  },
  {
   "cell_type": "markdown",
   "metadata": {},
   "source": [
    "*Solution:* If $t$ is a saddle point, then $t$ is the minimum of the second row and maximum of the first column. Hence, we must have that $t \\leq 1$ and $t \\geq 0$. Then for $0 \\leq t \\leq 1$, we have that $v(t) = t$, and the optimal strategy for player 1 is to always play the second row ($p=0$) and the optimal strategy for player II is to always play the first column ($q=1$).\n",
    "\n",
    "If $t \\leq 0$, then $0$ is the minimum of the first row and the maximum of the first column, and the point $(1,1)$ is a saddle point, so that $v(t<0)=0.\n",
    "\n",
    "Otherwise, the probabilities are:\n",
    "\n",
    "$$ p = \\frac{1-t}{-2+1-t} = \\frac{1-t}{-1-t}, \\quad q= \\frac{-1}{-1-t}, \\quad v = \\frac{-2t}{-1-t} $$\n",
    "\n",
    "hence, we have\n"
   ]
  },
  {
   "cell_type": "code",
   "execution_count": 3,
   "metadata": {},
   "outputs": [
    {
     "data": {
      "text/plain": [
       "[<matplotlib.lines.Line2D at 0x7f86634049d0>,\n",
       " <matplotlib.lines.Line2D at 0x7f86609ce2d0>,\n",
       " <matplotlib.lines.Line2D at 0x7f86609ce490>]"
      ]
     },
     "execution_count": 3,
     "metadata": {},
     "output_type": "execute_result"
    }
   ],
   "source": [
    "import numpy as np\n",
    "import matplotlib.pyplot as plt\n",
    "\n",
    "t_lt0 = np.linspace(-5,0,num=100)\n",
    "t_0to1 = np.linspace(0, 1, num=100)\n",
    "t_gt1= np.linspace(1,5, num=100)\n",
    "\n",
    "plt.plot(t_lt0, np.full([100,1],0), t_0to1, t_0to1, t_gt1, -2*t_gt1/(-1-t_gt1))\n"
   ]
  },
  {
   "cell_type": "code",
   "execution_count": null,
   "metadata": {},
   "outputs": [],
   "source": []
  },
  {
   "cell_type": "code",
   "execution_count": null,
   "metadata": {},
   "outputs": [],
   "source": []
  },
  {
   "cell_type": "code",
   "execution_count": null,
   "metadata": {},
   "outputs": [],
   "source": []
  },
  {
   "cell_type": "markdown",
   "metadata": {},
   "source": [
    "-----------------------------------------\n",
    "### 3.) Show that if a game with $m \\times n$ matrix has two saddle points, then they have equal value."
   ]
  },
  {
   "cell_type": "markdown",
   "metadata": {},
   "source": [
    "If the saddle points exist in the same row or column, then it is obvious that the saddle points must be equal. Thus, suppose they do not; suppose that $a_{ij}$ and $a_{xy}$ are saddle points, with $x \\neq i$ and $y \\neq j$.\n",
    "\n",
    "It must be that $a_{ij}$ is the maximum of all values in the $j$th column. Specifically, $a_{ij} \\geq a_{xj}.$ In addition, $a_{ij}$ must be the minimum of all values in the $i$th row, so that $a_{ij} \\leq a_{iy}$.\n",
    "\n",
    "But $a_{xy}$ is also a saddle point, so we have $a_{xy} \\geq a_{iy}$ (that is, $a_{xy}$ is the maximum of the $y$th column) and $a_{xy} \\leq a_{xj}$. Combining, we have\n",
    "\n",
    "$$a_{xy} \\leq a_{xj} \\leq a_{ij} \\leq a_{iy} \\leq a_{xy}$$\n",
    "\n",
    "so that $a_{xy} = a_{ij}$."
   ]
  },
  {
   "cell_type": "markdown",
   "metadata": {},
   "source": [
    "------------\n",
    "### 4.) Reduce by dominance to 2 $\\times$ 2 games and solve:\n",
    "$$(a) \\quad \\begin{pmatrix}5 & 4 & 1 & 0 \\\\ 4 & 3 & 2 & -1 \\\\ 0 & -1 & 4 & 3\\\\ 1 & -2 &1 &2 \\end{pmatrix} \\qquad (b) \\quad \\begin{pmatrix} 10 & 0 & 7 & 1 \\\\ 2 & 6 & 4 & 7 \\\\ 6 & 3 & 3 & 5 \\end{pmatrix}$$"
   ]
  },
  {
   "cell_type": "markdown",
   "metadata": {},
   "source": [
    "For $(a)$, the second column dominates the first, so that we obtain $$A = \\begin{pmatrix} 4&1&0\\\\3&2&-1\\\\-1&4&3\\\\-2&1&2 \\end{pmatrix}$$"
   ]
  },
  {
   "cell_type": "markdown",
   "metadata": {},
   "source": [
    "Then the fourth row is dominated by the third, so that $$A = \\begin{pmatrix} 4 & 1 & 0 \\\\ 3 & 2 &-1 \\\\-1 & 4 & 3 \\end{pmatrix}$$"
   ]
  },
  {
   "cell_type": "markdown",
   "metadata": {},
   "source": [
    "The third column now dominates the second: $$ A = \\begin{pmatrix}4 & 0 \\\\ 3 & -1 \\\\ -1 & 3 \\end{pmatrix}$$ "
   ]
  },
  {
   "cell_type": "markdown",
   "metadata": {},
   "source": [
    "And finally, the first row dominates the second: \n",
    "\n",
    "$$A = \\begin{pmatrix}4 & 0 \\\\ -1 & 3 \\end{pmatrix}.$$"
   ]
  },
  {
   "cell_type": "markdown",
   "metadata": {},
   "source": [
    "There are no saddle points. Thus, we have"
   ]
  },
  {
   "cell_type": "code",
   "execution_count": 4,
   "metadata": {},
   "outputs": [
    {
     "name": "stdout",
     "output_type": "stream",
     "text": [
      "Optimal probability player I choses row 1: 0.5\n",
      "Optimal probability player II choses row 2: 0.375\n",
      "Value of [[4, 0], [-1, 3]]: 1.5\n"
     ]
    }
   ],
   "source": [
    "A = [[4,0],[-1,3]]\n",
    "solve_2x2(A)"
   ]
  },
  {
   "cell_type": "markdown",
   "metadata": {},
   "source": [
    "Which corresponds to a strategy for I of $(1/2,0,1/2,0)$ and a strategy for II of $(0,3/8,0,5/8)$."
   ]
  },
  {
   "cell_type": "markdown",
   "metadata": {},
   "source": [
    "For $(b)$, the second column dominates the fourth: $$B= \\begin{pmatrix}10 & 0 & 7\\\\2&6&4\\\\6& 3 & 3 \\end{pmatrix}$$"
   ]
  },
  {
   "cell_type": "markdown",
   "metadata": {},
   "source": [
    "Now $1/2*R_1+1/2*R_2 \\geq R_3$, so row 3 is dominated: $$B= \\begin{pmatrix}10&0&7\\\\2&6&4 \\end{pmatrix}.$$"
   ]
  },
  {
   "cell_type": "markdown",
   "metadata": {},
   "source": [
    "Now, $1/2*C_1+1/2*C_2 \\leq C_3$, so column 3 is  dominated, and $$B= \\begin{pmatrix} 10 & 0 \\\\ 2 & 6 \\end{pmatrix}.$$"
   ]
  },
  {
   "cell_type": "markdown",
   "metadata": {},
   "source": [
    "$B$ does not haev a saddle point, and thus we have"
   ]
  },
  {
   "cell_type": "code",
   "execution_count": 5,
   "metadata": {},
   "outputs": [
    {
     "name": "stdout",
     "output_type": "stream",
     "text": [
      "Optimal probability player I choses row 1: 0.2857142857142857\n",
      "Optimal probability player II choses row 2: 0.42857142857142855\n",
      "Value of [[10, 0], [2, 6]]: 4.285714285714286\n"
     ]
    }
   ],
   "source": [
    "B = [[10,0],[2,6]]\n",
    "solve_2x2(B)"
   ]
  },
  {
   "cell_type": "markdown",
   "metadata": {},
   "source": [
    "Which corresponds to a strategy of $(2/7,5/7, 0,0)$ for I, a strategy of $(3/7,4/7,0)$ for II, and a value of $30/7$"
   ]
  },
  {
   "cell_type": "markdown",
   "metadata": {},
   "source": [
    "-----------\n",
    "### 5.) Solve the game with matrix $\\begin{pmatrix} 3 & 2 & 4 & 0 \\\\ -2 & 1 & -4 & 5 \\end{pmatrix}$. Reduce by dominance to a 3 $ \\times$ 2 matrix game and solve: $\\begin{pmatrix} 0 & 8 & 5 \\\\ 8 & 4 & 6 \\\\ 12 & -4 & 3 \\end{pmatrix}$"
   ]
  },
  {
   "cell_type": "markdown",
   "metadata": {},
   "source": [
    "We can see that the payoff when I chooses row 1 with probability $p$ and II choses column $i$ is\n",
    "\n",
    "$$\\begin{align*}\n",
    "P_1 &= 3p-2(1-p)\\\\\n",
    "P_2 &= 2p + 1(1-p)\\\\\n",
    "P_3 &= 4p-4(1-p)\\\\\n",
    "P_4 &= 5(1-p)\n",
    "\\end{align*}$$\n",
    "\n",
    "Graphing gives:"
   ]
  },
  {
   "cell_type": "code",
   "execution_count": 6,
   "metadata": {},
   "outputs": [
    {
     "data": {
      "text/plain": [
       "(0, 4)"
      ]
     },
     "execution_count": 6,
     "metadata": {},
     "output_type": "execute_result"
    },
    {
     "data": {
      "image/png": "[encoded data removed]",
      "text/plain": [
       "<Figure size 432x288 with 1 Axes>"
      ]
     },
     "metadata": {
      "needs_background": "light"
     },
     "output_type": "display_data"
    }
   ],
   "source": [
    "p = np.linspace(0,1,200)\n",
    "plt.plot(p,3*p-2*(1-p), 'r', p, 2*p+(1-p), 'b', p, 4*p-4*(1-p), 'g', p, 5*(1-p), 'y')\n",
    "plt.ylim(0,4,1)"
   ]
  },
  {
   "cell_type": "markdown",
   "metadata": {},
   "source": [
    "The drawing indicates that the peak of the lower envelope occurs at the intersection of the red and yellow lines, or by solving the game involving only columns 1 and 4. This means\n",
    "\n",
    "$$\\begin{pmatrix} 3 &0 \\\\ -2 & 5 \\end{pmatrix}$$ is the matrix to solve."
   ]
  },
  {
   "cell_type": "code",
   "execution_count": 7,
   "metadata": {},
   "outputs": [
    {
     "name": "stdout",
     "output_type": "stream",
     "text": [
      "Optimal probability player I choses row 1: 0.7\n",
      "Optimal probability player II choses row 2: 0.5\n",
      "Value of [[3, 0], [-2, 5]]: 1.5\n"
     ]
    }
   ],
   "source": [
    "A=[[3,0],[-2,5]]\n",
    "solve_2x2(A)\n"
   ]
  },
  {
   "cell_type": "markdown",
   "metadata": {},
   "source": [
    "We test:"
   ]
  },
  {
   "cell_type": "code",
   "execution_count": 8,
   "metadata": {},
   "outputs": [
    {
     "name": "stdout",
     "output_type": "stream",
     "text": [
      "1.4999999999999996\n",
      "1.7\n",
      "1.5999999999999996\n",
      "1.5000000000000002\n"
     ]
    }
   ],
   "source": [
    "p=.7\n",
    "print(3*p-2*(1-p))\n",
    "print(2*p+(1-p))\n",
    "print(4*p-4*(1-p))\n",
    "print(5*(1-p))"
   ]
  },
  {
   "cell_type": "markdown",
   "metadata": {},
   "source": [
    "So that I's is guaranteed at least 1.50.\n",
    "\n",
    "On the other hand, the average winnings of II are given by"
   ]
  },
  {
   "cell_type": "code",
   "execution_count": 9,
   "metadata": {},
   "outputs": [
    {
     "name": "stdout",
     "output_type": "stream",
     "text": [
      "-1.5\n",
      "-1.5\n"
     ]
    }
   ],
   "source": [
    "p=.5\n",
    "print(-3*p)\n",
    "print(2*p-5*(1-p))"
   ]
  },
  {
   "cell_type": "markdown",
   "metadata": {},
   "source": [
    "so that the maximum winnings are 1.5 in either case. Hence, the solution is correct.\n",
    "\n",
    "For the next matrix, we have that $3/8*C_1+5/8*C_2 \\leq C_3$. Thus column 3 is dominated and we have $$\\begin{pmatrix}0 & 8 \\\\ 8 & 4 \\\\ 12 & -4 \\end{pmatrix}$$"
   ]
  },
  {
   "cell_type": "markdown",
   "metadata": {},
   "source": [
    "If $p$ is the probability that player II plays column 1, we see the payoff functions as'\n",
    "$$\n",
    "\\begin{align*}\n",
    "P_1 &= 8*(1-p)\\\\\n",
    "P_2 &= 8*p+4*(1-p)\\\\\n",
    "P_3 &= 12*p-4*(1-p)\n",
    "\\end{align*}\n",
    "$$\n",
    "Graphing gives"
   ]
  },
  {
   "cell_type": "code",
   "execution_count": 10,
   "metadata": {},
   "outputs": [
    {
     "data": {
      "text/plain": [
       "[<matplotlib.lines.Line2D at 0x7f86607a1390>,\n",
       " <matplotlib.lines.Line2D at 0x7f866079b250>,\n",
       " <matplotlib.lines.Line2D at 0x7f866079b350>]"
      ]
     },
     "execution_count": 10,
     "metadata": {},
     "output_type": "execute_result"
    },
    {
     "data": {
      "image/png": "[encoded data removed]",
      "text/plain": [
       "<Figure size 432x288 with 1 Axes>"
      ]
     },
     "metadata": {
      "needs_background": "light"
     },
     "output_type": "display_data"
    }
   ],
   "source": [
    "p = np.linspace(0,1,200)\n",
    "plt.plot(p,8*(1-p),'r', p, 8*p+4*(1-p), 'g', p, 12*p-4*(1-p), 'y')"
   ]
  },
  {
   "cell_type": "markdown",
   "metadata": {},
   "source": [
    "The probability that minimizes the upper envelope appears to be at the intersection of the green and red lines, corresponding to the first to rows. The matrix becomes:\n",
    "\n",
    "$$\\begin{pmatrix}\n",
    "0 & 8 \\\\ 8 & 4 \\end{pmatrix}$$\n",
    "\n",
    "whose solution is given by:"
   ]
  },
  {
   "cell_type": "code",
   "execution_count": 11,
   "metadata": {},
   "outputs": [
    {
     "name": "stdout",
     "output_type": "stream",
     "text": [
      "Optimal probability player I choses row 1: 0.3333333333333333\n",
      "Optimal probability player II choses row 2: 0.3333333333333333\n",
      "Value of [[0, 8], [8, 4]]: 5.333333333333333\n"
     ]
    }
   ],
   "source": [
    "solve_2x2([[0,8],[8,4]])"
   ]
  },
  {
   "cell_type": "markdown",
   "metadata": {},
   "source": [
    "Corresponding to a strategy of (1/3,2/3,0) for each player."
   ]
  },
  {
   "cell_type": "markdown",
   "metadata": {},
   "source": [
    "### 7.) In general, the sure-fire test may be stated thus: For a given game, conjectured optimal strategies $(p_1,\\ldots, p_m)$ and $(q_1, \\ldots, q_n)$ are indeed optimal if the minimum of I's average payoffs using $(p_1, \\ldots, p_m)$ is equal to the maximum of II's average payoffs using $(q_1,\\ldots,q_n)$. Show that for the game with the following matrix the mixed strategies $p=(6/37,20/37,0,11/37)$ and $q=(14/37,4/37,0,19/37,0)$ are optimal for I and II respectively. What is the value?\n",
    "\n",
    "$$A= \\begin{pmatrix} 5 & 8 & 3 & 1 & 6 \\\\ 4 & 2 & 6 & 3 & 5 \\\\ 2 & 4 & 6 & 4 & 1 \\\\ 1 & 3 & 2 & 5 & 3 \\end{pmatrix}$$"
   ]
  },
  {
   "cell_type": "markdown",
   "metadata": {},
   "source": [
    "Suppose that player I plays with strategy $p$, and player II plays column $j$. Denote the columns of $A$ as $v_j$. The payoff is\n",
    "\n",
    "$$pay(p,c_j) = p^Tv_j.$$\n",
    "\n",
    "Similarly, if player I plays row $j$ and player II plays with strategy $q$, with the rows of $A$ denoted as $r_i$, then the payoff is\n",
    "\n",
    "$$pay(r_i,q) = -r_iq^T.$$\n",
    "\n",
    "In general we can say:"
   ]
  },
  {
   "cell_type": "code",
   "execution_count": 66,
   "metadata": {},
   "outputs": [],
   "source": [
    "A = np.array([[5,8,3,1,6],[4,2,6,3,5],[2,4,6,4,1],[1,3,2,5,3]])\n",
    "p = np.array([6/37,20/37,0,11/37])\n",
    "q = np.array([14/37,4/37,0,19/37,0])\n",
    "\n",
    "def payoffs_player_I(A, p):\n",
    "    \"\"\"Returns a list of average payoffs of the game with matrix A\n",
    "    when player I plays with strategy $p$ and player II plays a single column.\n",
    "    The indices of the list correspond to the column played by II; i.e.,\n",
    "   \n",
    "       payoffs[0] = 1.5\n",
    "       \n",
    "    means that the average payoff when player I plays p and player II plays the first\n",
    "    coulmn is 1.5\"\"\"\n",
    "    payoffs = []\n",
    "    for col in A.transpose():\n",
    "        payoffs.append(np.matmul(p.transpose(), col))\n",
    "    return payoffs\n",
    "\n",
    "def payoffs_player_II(A,q):\n",
    "    \"\"\"Returns a list of average payoffs of the game with matrix A\n",
    "    when player II plays with strategy $q$ and player I plays a single row.\n",
    "    The indices of the list correspond to the row played by I; i.e.,\n",
    "   \n",
    "       payoffs[0] = 1.5\n",
    "       \n",
    "    means that the average payoff when player II plays q and player I plays the first\n",
    "    row is 1.5\"\"\"\n",
    "    payoffs = []\n",
    "    for row in A:\n",
    "        payoffs.append(1*np.matmul(row,q.transpose()))\n",
    "    return payoffs\n",
    "\n"
   ]
  },
  {
   "cell_type": "code",
   "execution_count": 67,
   "metadata": {},
   "outputs": [
    {
     "data": {
      "text/plain": [
       "[3.2702702702702706,\n",
       " 3.27027027027027,\n",
       " 4.324324324324325,\n",
       " 3.27027027027027,\n",
       " 4.5675675675675675]"
      ]
     },
     "execution_count": 67,
     "metadata": {},
     "output_type": "execute_result"
    }
   ],
   "source": [
    "payoffs_player_I(A,p)"
   ]
  },
  {
   "cell_type": "code",
   "execution_count": 68,
   "metadata": {},
   "outputs": [
    {
     "data": {
      "text/plain": [
       "[3.2702702702702706, 3.27027027027027, 3.243243243243243, 3.27027027027027]"
      ]
     },
     "execution_count": 68,
     "metadata": {},
     "output_type": "execute_result"
    }
   ],
   "source": [
    "payoffs_player_II(A,q)"
   ]
  },
  {
   "cell_type": "markdown",
   "metadata": {},
   "source": [
    "Thus the value of the game is $\\approx 3.\\overline{270}$."
   ]
  },
  {
   "cell_type": "markdown",
   "metadata": {},
   "source": [
    "----------\n",
    "\n",
    "### A magic square is an $n \\times n$ array of the first $n^2$ integers with the property that all row and column sums are equal. Show how to solve all games with magic square game matrices. Solve the example,\n",
    "$$ A= \\begin{pmatrix} 16 & 3 & 2 & 13\\\\ 5 & 10 & 11 & 8 \\\\ 9 & 6 & 7 & 12\\\\ 4 & 15 & 14 & 1 \\end{pmatrix}$$"
   ]
  },
  {
   "cell_type": "markdown",
   "metadata": {},
   "source": [
    "The total sum of the first $n^2$ integers is given by Gauss as \n",
    "\n",
    "$$\\frac{n^2(n^2+1)}{2}.$$\n",
    "\n",
    "Hence, for each row and column to have the same sum, each must sum to exactly\n",
    "\n",
    "$$\\frac{n^2(n^2+1)}{2n} = \\frac{n^3+n}{2}$$\n",
    "\n",
    "The average payoff where player I  plays each row with equal probability is\n",
    "\n",
    "$$\\frac{a_{1,j}}{n} + \\frac{a_{2,j}}{n} + \\ldots + \\frac{a_{n,j}}{n}=\\frac{n^3+n}{2n} = \\frac{n^2+1}{2}$$ regardless of the column player 2 plays. A similar calculation holds for player II, and shows this strategy is optimal and the value of the game is $\\frac{n^2+1}{2}.$\n",
    "\n",
    "Calculating verifies:"
   ]
  },
  {
   "cell_type": "code",
   "execution_count": 50,
   "metadata": {},
   "outputs": [],
   "source": [
    "A = np.array([[16,3,2,13],[5,10,11,8],[9,6,7,12],[4,15,14,1]])\n",
    "p = np.array([1/4,1/4,1/4,1/4])\n",
    "q = np.array([1/4,1/4,1/4,1/4])"
   ]
  },
  {
   "cell_type": "code",
   "execution_count": 56,
   "metadata": {},
   "outputs": [
    {
     "data": {
      "text/plain": [
       "8.5"
      ]
     },
     "execution_count": 56,
     "metadata": {},
     "output_type": "execute_result"
    }
   ],
   "source": [
    "min(payoffs_player_I(A,p))"
   ]
  },
  {
   "cell_type": "code",
   "execution_count": 57,
   "metadata": {},
   "outputs": [
    {
     "data": {
      "text/plain": [
       "8.5"
      ]
     },
     "execution_count": 57,
     "metadata": {},
     "output_type": "execute_result"
    }
   ],
   "source": [
    "max(payoffs_player_II(A,q))"
   ]
  },
  {
   "cell_type": "code",
   "execution_count": 63,
   "metadata": {},
   "outputs": [
    {
     "data": {
      "text/plain": [
       "8.5"
      ]
     },
     "execution_count": 63,
     "metadata": {},
     "output_type": "execute_result"
    }
   ],
   "source": [
    "(4*4+1)/2"
   ]
  }
 ],
 "metadata": {
  "kernelspec": {
   "display_name": "Python 3",
   "language": "python",
   "name": "python3"
  },
  "language_info": {
   "codemirror_mode": {
    "name": "ipython",
    "version": 3
   },
   "file_extension": ".py",
   "mimetype": "text/x-python",
   "name": "python",
   "nbconvert_exporter": "python",
   "pygments_lexer": "ipython3",
   "version": "3.7.5"
  }
 },
 "nbformat": 4,
 "nbformat_minor": 2
}
