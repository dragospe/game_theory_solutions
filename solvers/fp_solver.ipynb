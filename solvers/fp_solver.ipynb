{
 "cells": [
  {
   "cell_type": "markdown",
   "metadata": {},
   "source": [
    "# A first attempt at a Fictional Play Game Solver\n",
    "\n",
    "The below implementations follow the conventions given in Thomas Ferguson's \"Game Theory\", part II, section 4.7, pages 44 through 46. We briefly recap them here:\n",
    "\n",
    " * $A(i,j)$ is an $m \\times n$ payoff matrix  with strategies $1, \\ldots, m$ and $1, \\ldots, n$ for players I and II, respectively.\n",
    " * We start with an arbitrary pure strategy for player **I** (defaulting to strategy 1). The players then alternate selecting best-response strategies assuming that the previous strategies of the opposing player a selected with uniform probability according to the frequency with which they have occured.\n",
    "     * *(Specifically, if player I has strategies (1,2,3) and has played (1,1,3,1,2), then player II selects a best response assuming that player I's mixed strategy is (3/5, 1/5, 1/5)*.\n",
    " * The upper value  $\\overline{V}_k$ and lower value $\\underline{V}_k$ are calculated after each turn. These converge tothe value of the game, but do not converge monotonically. Convergence is thought to be on the order of $1/\\sqrt{k}.$"
   ]
  },
  {
   "cell_type": "markdown",
   "metadata": {},
   "source": [
    "## Testing\n",
    "\n",
    "In the book, the example matrix is given (on page 46) as\n",
    "\n",
    "$$ A = \\begin{pmatrix} 2 & -1 & 6 \\\\ 0 & 1 & -1 \\\\ -2 & 2 & 1 \\end{pmatrix}$$\n",
    "\n",
    "The game has value $.5$ and optimal mixed strategies of $(.25,.75,0)$ and $(.5,.5,0)$.\n",
    "\n",
    "A full table of relevant calculations up to round 15 is given on page 46. We omit it here.\n",
    "\n",
    "If a deterministic fictious play is used (by selecting the smallest strategy on each round of play), the optimum strategy for player **II** is given on the second round. \n",
    "\n",
    "On the other hand, it appears that the algorithm is much slower to converge for player **I**. Two values of note are given in the book, and we use these to test our algorithms:\n",
    "    \n",
    "    * On round 13, $\\inf(\\underline{V}_k)$ is found to be 5/13 = 0.3846..., yielding the mixed strategy $(5/13, 6/13, 12/3)$\n",
    "    * On round 91, $\\inf(\\underline{V}_k)$ is found to be 44/91 = .4835..., yielding the mixed strategy $(25/91, 63/91, 3/91)$\n",
    "    \n"
   ]
  },
  {
   "cell_type": "markdown",
   "metadata": {},
   "source": [
    "-------------------\n",
    "\n",
    "## First implementation\n",
    "\n",
    "Our first implementation, `naive_fp`, implements the algorithm as a serial calculation mirroring the calculations done in the book. It also implements a \"pretty printing\" of the resulting calculations to make it easier to verify that the calculations match up at each step to those given in the book (or done by hand)."
   ]
  },
  {
   "cell_type": "markdown",
   "metadata": {},
   "source": [
    "The algorithm is 0-indexed. That is, the strategies for player **I** are given as $(0, \\ldots, m-1),$ and the game starts on round 0.\n",
    "\n",
    "The algorithm maintains its historical state in the following variables:\n",
    " * *payoff\\_matrix*: A payoff matrix of arbitrary size  \n",
    " * $k$: the round index, beginning at 0\n",
    " * $i$: an array of the pure strategies selected for player I at each round; i.e., $i[4]$ is the strategy selected for player I as a best response to the 4th round of play by player II. Given mathematically as the $i$ that maximizes the expectation $$i_k = \\left( \\frac{1}{k+1}\\right) = \\sum_{l=0}^k A_{i,j_l}$$\n",
    " * $j$: an array of the pure strategies slected for player II at each round. Given mathematically as the $j$ that minmizes the expecation $$j_k \\left( \\frac{1}{k+1}\\right) \\sum_{l=0}^k A(i_l, j)$$\n",
    " * $s$: an array of incremental payoffs for player II. This is given as $$s_k = \\sum_{l=0}^k A(i_l),j),$$ which allows $j_k$ to be defined as $$ j_k = \\text{argmin }s_k(j_k).$$\n",
    " * $t$: an array of incremental payoffs for player I. This is given as $$ t_{k}(i) = \\sum_{l=0}^k A(i,j_l)$$ which yields $$i_{k+1} = \\text{argmax } t_k(i).$$\n",
    " * *v_lower*: A list of lower bounds given on round $k$, defined as $$\\left(\\frac{1}{k+1}\\right) t_{k}(i_{k+1}).$$\n",
    " * *v_upper*: A list of upper bounds given on round $k$, defined as $$\\left(\\frac{1}{k+1}\\right) s_{k}(j_k).$$\n",
    " * *sup\\_v\\_upper*: Defined as the tuple *(min(v\\_upper), argmin(v\\_upper))*; the least upper bound of the game's value and the index at which it first occured.\n",
    " * *inf\\_v\\_lower*: Defined as the tuple *(max(v\\_lower), argmax(v\\_lower))*; the greatest lower bound of the game's value and the index at which it first occured.\n",
    " * *pI\\_strategy*: The best-response strategy given on the round at which *inf\\_v\\_lower* occured.\n",
    " * *pII\\_strategy*: The best-response strategy given on the round at which *sup\\_v\\_upper* occured.\n",
    "\n",
    "\n"
   ]
  },
  {
   "cell_type": "markdown",
   "metadata": {},
   "source": [
    "The algorithm proceeds as follows:\n",
    "\n",
    " * An object is instantiated and the first round of play is conducted with the given inital value of $i$ (defaulting to $i = 0.)$\n",
    " * For each round of play, we do the following in order:\n",
    "  * Increment $k$ (the round index)\n",
    "  * Calculate the incremental payoffs for player II as $s[k] = s[k-1] + A(i[k],:)$ and append to the array $s$; i.e., the previous row of incremental payoff plus the row of payoffs as selected by the current $i$.\n",
    "  * Calculate the best-response for player $I$, $j[k]$, given $s[k].$ This is $\\text{argmin }s[k].$\n",
    "  * Calculate the incremental payoffs for player I as $t[k] = t[k-1] + A(:,j[k])$ and append to $t$.\n",
    "  * Calculate the best-response for player $I$, $i[k+1]$, given $t[k]$.\n",
    "  * Calculate *v_upper* and *v_lower* as the payoff given the best-response pure-strategy on round $k$ divided by the number of rounds (for each player) and append\n",
    "  * Calculate *sup_v_upper* and *inf_v_lower* as the min/max of *v_upper/v_lower*.\n",
    "  * Calculate the strategy for each player on the round given by the previous calculation by calculating the number of times each pure strategy was played on the rounds until the last update of *sup_v_upper* and *inf_v_lower**, divided by $k+1$. Append to the respective list.\n"
   ]
  },
  {
   "cell_type": "code",
   "execution_count": 1,
   "metadata": {},
   "outputs": [],
   "source": [
    "import numpy as np\n",
    "from tabulate import tabulate\n",
    "\n",
    "# The testing array\n",
    "A = np.array([[2,-1,6],[0,1,-1],[-2,2,1]])\n",
    "\n",
    "\n",
    "class naive_fp():\n",
    "\n",
    "    def __init__(self, \n",
    "                 payoff_matrix, \n",
    "                 initial_i=0,\n",
    "                 print_head=5,\n",
    "                 print_tail=5,\n",
    "                 print_indexing_at_1 = False):\n",
    "        \"\"\"Variables named according to Ferguson's 'Game Theory',\n",
    "        part II, chapter 4, page 46.\n",
    "        \n",
    "        Note: to ease indexing, the strategies begin at 0; i.e.,\n",
    "        a 3x3 matrix will have strategies 0, 1, and 2 rather than\n",
    "        1, 2, and 3. This also means that the index for the `round`\n",
    "        starts at k = 0 (meaning only the inital play has occured).\n",
    "        \"\"\"\n",
    "        \n",
    "        # Set how many lines to pretty-print\n",
    "        self.print_head, self.print_tail = print_head, print_tail \n",
    "        # Set whether the indexing for printing starts a 0 (default) or 1\n",
    "        # (makes it easier to see if the values match the values in texts that\n",
    "        # start at k = 1)\n",
    "        self.print_indexing_at_1 = print_indexing_at_1\n",
    "        \n",
    "        \n",
    "        self.payoff_matrix = payoff_matrix\n",
    "        \n",
    "        # Round index\n",
    "        self.k = 0\n",
    "        \n",
    "        # Pure strategy selections for player I\n",
    "        self.i = np.array([initial_i], dtype = int)\n",
    "        # Incremental payoffs for player II\n",
    "        self.s = np.array([self.payoff_matrix[self.i[self.k]]])\n",
    "     \n",
    "        # Pure strategy selection for player II\n",
    "        self.j = np.array([np.argmin(self.s[self.k])], dtype = int)\n",
    "        # Incremental payoffs for player I\n",
    "        self.t = np.array([self.payoff_matrix[:, self.j[self.k]]])\n",
    "        \n",
    "        # Select best-response for player I; choose i_{k+1}\n",
    "        self.i = np.append(self.i, np.argmax(self.t[self.k]))\n",
    "        \n",
    "        # Game value lists\n",
    "        self.v_lower = np.array([self.s[self.k][self.j[self.k]]], dtype = np.float64)\n",
    "        self.v_upper = np.array([self.t[self.k][self.i[self.k + 1]]], dtype = np.float64)\n",
    "        \n",
    "        \n",
    "        # supremum of v_upper\n",
    "        self.sup_v_upper = self.v_upper\n",
    "        # infimum of v_lower\n",
    "        self.inf_v_lower = self.v_lower\n",
    "        \n",
    "        ## Best strategies on round k\n",
    "        # Player I's initial strategy is the first row with probability 1\n",
    "        self.pI_strategy = np.zeros([payoff_matrix.shape[0]])\n",
    "        self.pI_strategy[0] = 1\n",
    "        # Player II's initial strategy is j[0] = argmin(s[0]) with probability 1\n",
    "        self.pII_strategy = np.zeros([payoff_matrix.shape[1]])\n",
    "        self.pII_strategy[self.j[0]] = 1\n",
    "        \n",
    "        \n",
    "    def next_rounds(self, rounds=1):\n",
    "        \"\"\"The rounds are calculated as follows:\n",
    "        At the end of each round, all values of i[k], s[k], j[k], t[k], v_upper[k] and v_lower[k]\n",
    "        have been updated.\n",
    "        \n",
    "        During each round, they are updated in that order.\n",
    "        \"\"\"\n",
    "\n",
    "        \n",
    "        for _ in range(rounds):   \n",
    "            # Increment round\n",
    "            self.k += 1\n",
    "            \n",
    "            # Increment payoffs for player II; calculate s_k\n",
    "            self.s = np.append(self.s, [self.s[self.k - 1] + self.payoff_matrix[self.i[self.k]]], axis=0)\n",
    "            # Select best-response for player II; choose j_k\n",
    "            self.j = np.append(self.j, np.argmin(self.s[self.k]))\n",
    "        \n",
    "            # Increment payoffs for player I: calculate t_k\n",
    "            self.t = np.append(self.t, [self.t[self.k - 1] + self.payoff_matrix[:, self.j[self.k]]], axis = 0)\n",
    "            # Select best-response for player I; choose i_k\n",
    "            self.i = np.append(self.i, np.argmax(self.t[self.k]))\n",
    "       \n",
    "    \n",
    "            ## Change value bounds\n",
    "            # Calculate v_upper_k\n",
    "            self.v_upper = np.append(self.v_upper, 1 / (self.k+1) * self.t[self.k][self.i[self.k+1]])\n",
    "            # Calculate v_lower_k\n",
    "            self.v_lower = np.append(self.v_lower, 1 / (self.k + 1) * self.s[self.k][self.j[self.k]])\n",
    "            \n",
    "            \n",
    "        \n",
    "        # Compute supremum and infimum\n",
    "        self.sup_v_upper = {'value' : min(self.v_upper), 'index' : np.argmin(self.v_upper)}\n",
    "        self.inf_v_lower = {'value' : max(self.v_lower), 'index' : np.argmax(self.v_lower)}\n",
    "      \n",
    "        ## Update strategies    \n",
    "        # Zero out the strategies\n",
    "        self.pI_strategy = np.zeros(self.payoff_matrix.shape[0])\n",
    "        # Get the number of times each pure strategy was played up to the inf\n",
    "        strats_I, counts_I = np.unique(self.i[: self.inf_v_lower['index'] + 1], return_counts = True)\n",
    "        # Play each strategy equally likely\n",
    "        for i,j in zip(strats_I, counts_I):\n",
    "            self.pI_strategy[i] = j / (self.inf_v_lower['index']+1)\n",
    "    \n",
    "        # Same for player II\n",
    "        self.pII_strategy = np.zeros(self.payoff_matrix.shape[1])\n",
    "        # Get the number of times each pure strategy was played up to the sup\n",
    "        strats_II, counts_II = np.unique(self.j[: self.sup_v_upper['index'] + 1], return_counts = True)\n",
    "        for i,j in zip(strats_II, counts_II):\n",
    "            self.pII_strategy[i] = j / (self.sup_v_upper['index']+1)   \n",
    "    \n",
    "    \n",
    "    def __str__(self):\n",
    "        ph = self.print_head\n",
    "        pt = self.print_tail\n",
    "        \n",
    "        headers = ('k', 'i_k', 's_k', 'v_lower_k', 'j_k', 't_k', 'v_upper_k')\n",
    "        \n",
    "        bounds_str = \"\\n\\nUpper game value: \" + str(self.sup_v_upper) + \"\\n\" \\\n",
    "            \"Lower game value: \" + str(self.inf_v_lower) + \"\\n\\n\"\n",
    "        \n",
    "        strategies_str = \"Player I optimal strategy: \\n\\t\" + str(list(self.pI_strategy)) + \\\n",
    "                         \"\\nPlayer II optimal strategy: \\n\\t\" + str(list(self.pII_strategy)) +\\\n",
    "                         \"\\n\\n\"\n",
    "        \n",
    "        # Build up a return value as we go\n",
    "        rv = bounds_str + strategies_str\n",
    "        \n",
    "        if ph + pt >= self.k+1:\n",
    "            # If the total number of lines to print is less than or equal to the\n",
    "            # number of rounds, we don't need to print a line of '[...]'.\n",
    "            \n",
    "            # Return table with inidces starting at 1\n",
    "            if self.print_indexing_at_1 == True:\n",
    "                data = zip(\n",
    "                    list(range(1, self.k + 1)), \n",
    "                    self.i + 1, \n",
    "                    self.s, \n",
    "                    self.v_lower, \n",
    "                    self.j + 1, \n",
    "                    self.t, \n",
    "                    self.v_upper)\n",
    "                rv += tabulate(data, headers = headers)\n",
    "                return rv\n",
    "                \n",
    "            # Return table with indices starting at 0\n",
    "            data = zip(\n",
    "                list(range(self.k + 1)), \n",
    "                self.i, \n",
    "                self.s, \n",
    "                self.v_lower, \n",
    "                self.j, \n",
    "                self.t, \n",
    "                self.v_upper)\n",
    "            rv += tabulate(data, headers = headers)\n",
    "            return rv\n",
    "        \n",
    "        # Total number of rounds exceeds ph+pt; print a line break\n",
    "        line_break = \"\\n\\n[...]\\n\" + str(self.k - ph - pt) + \" lines skipped... \\n\" + \"[...]\\n\\n\"\n",
    "        \n",
    "        if self.print_indexing_at_1 == True:\n",
    "                data_head = list(zip(\n",
    "                    list(range(1, ph + 1)), \n",
    "                    self.i[:ph] + 1, \n",
    "                    self.s[:ph], \n",
    "                    self.v_lower[:ph], \n",
    "                    self.j[:ph] + 1, \n",
    "                    self.t[:ph], \n",
    "                    self.v_upper[:ph]))\n",
    "                 \n",
    "                rv += tabulate(data_head, headers = headers)\n",
    "                rv += line_break\n",
    "                \n",
    "                data_tail = list(zip(\n",
    "                    list(range(self.k - pt + 1, self.k + 2)), \n",
    "                    self.i[self.k - pt:self.k] + 1, \n",
    "                    self.s[self.k - pt:self.k], \n",
    "                    self.v_lower[self.k - pt:self.k], \n",
    "                    self.j[self.k - pt:self.k] + 1, \n",
    "                    self.t[self.k - pt:self.k], \n",
    "                    self.v_upper[self.k - pt:self.k]))\n",
    "                \n",
    "                rv += tabulate(data_tail, headers = headers)\n",
    "                \n",
    "                return rv\n",
    "            \n",
    "        # Return table with indices starting at 0\n",
    "        data_head = list(zip(\n",
    "                    list(range(ph)), \n",
    "                    self.i[:ph], \n",
    "                    self.s[:ph], \n",
    "                    self.v_lower[:ph], \n",
    "                    self.j[:ph], \n",
    "                    self.t[:ph], \n",
    "                    self.v_upper[:ph]))\n",
    "        \n",
    "        rv += tabulate(data_head, headers = headers)            \n",
    "        rv += line_break\n",
    "        \n",
    "        data_tail = list(zip(\n",
    "                    list(range(self.k  - pt, self.k + 2)), \n",
    "                    self.i[self.k - pt:self.k], \n",
    "                    self.s[self.k - pt:self.k], \n",
    "                    self.v_lower[self.k - pt:self.k], \n",
    "                    self.j[self.k - pt:self.k], \n",
    "                    self.t[self.k - pt:self.k], \n",
    "                    self.v_upper[self.k - pt:self.k]))\n",
    "        \n",
    "        rv += tabulate(data_tail, headers = headers)\n",
    "        return rv"
   ]
  },
  {
   "cell_type": "markdown",
   "metadata": {},
   "source": [
    "Lets test with matrix $A$. On round 13, we should get the values:"
   ]
  },
  {
   "cell_type": "code",
   "execution_count": 2,
   "metadata": {},
   "outputs": [
    {
     "name": "stdout",
     "output_type": "stream",
     "text": [
      "Upper game value = .5, index = 1\n",
      "Lower game value =  0.38461538461538464  index = 12\n",
      "pI strategy =  (0.38461538461538464, 0.46153846153846156, 0.15384615384615385)\n",
      "pII strategy = (.5, .5, 0)\n"
     ]
    }
   ],
   "source": [
    "print(\"Upper game value = .5, index = 1\")\n",
    "print(\"Lower game value = \", 5/13, \" index = 12\")\n",
    "print(\"pI strategy = \", (5/13, 6/13, 2/13))\n",
    "print(\"pII strategy = (.5, .5, 0)\")"
   ]
  },
  {
   "cell_type": "code",
   "execution_count": 3,
   "metadata": {},
   "outputs": [
    {
     "name": "stdout",
     "output_type": "stream",
     "text": [
      "\n",
      "\n",
      "Upper game value: {'value': 0.5, 'index': 1}\n",
      "Lower game value: {'value': 0.38461538461538464, 'index': 12}\n",
      "\n",
      "Player I optimal strategy: \n",
      "\t[0.38461538461538464, 0.46153846153846156, 0.15384615384615385]\n",
      "Player II optimal strategy: \n",
      "\t[0.5, 0.5, 0.0]\n",
      "\n",
      "  k    i_k  s_k           v_lower_k    j_k  t_k           v_upper_k\n",
      "---  -----  ----------  -----------  -----  ----------  -----------\n",
      "  0      0  [ 2 -1  6]        -1         1  [-1  1  2]     2\n",
      "  1      2  [0 1 7]            0         0  [1 1 0]        0.5\n",
      "  2      0  [ 2  0 13]         0         1  [0 2 2]        0.666667\n",
      "  3      1  [ 2  1 12]         0.25      1  [-1  3  4]     1\n",
      "  4      2  [ 0  3 13]         0         0  [1 3 2]        0.6\n",
      "\n",
      "[...]\n",
      "2 lines skipped... \n",
      "[...]\n",
      "\n",
      "  k    i_k  s_k           v_lower_k    j_k  t_k        v_upper_k\n",
      "---  -----  ----------  -----------  -----  -------  -----------\n",
      "  7      0  [ 4  2 24]     0.25          1  [4 4 0]     0.5\n",
      "  8      0  [ 6  1 30]     0.111111      1  [3 5 2]     0.555556\n",
      "  9      1  [ 6  2 29]     0.2           1  [2 6 4]     0.6\n",
      " 10      1  [ 6  3 28]     0.272727      1  [1 7 6]     0.636364\n",
      " 11      1  [ 6  4 27]     0.333333      1  [0 8 8]     0.666667\n"
     ]
    }
   ],
   "source": [
    "A_naive = naive_fp(A)\n",
    "A_naive.next_rounds(12)\n",
    "print(A_naive)"
   ]
  },
  {
   "cell_type": "markdown",
   "metadata": {},
   "source": [
    "These values check out, and the values of the table check out (when adjusted for the 0-indexing.) Lets try for round 91. We should get a value of 44/91 = .4835... and an optimal strategy of (25/91, 63/91, 3/91)."
   ]
  },
  {
   "cell_type": "code",
   "execution_count": 4,
   "metadata": {},
   "outputs": [
    {
     "data": {
      "text/plain": [
       "(0.27472527472527475, 0.6923076923076923, 0.03296703296703297)"
      ]
     },
     "execution_count": 4,
     "metadata": {},
     "output_type": "execute_result"
    }
   ],
   "source": [
    "(25/91, 63/91, 3/91)"
   ]
  },
  {
   "cell_type": "code",
   "execution_count": 5,
   "metadata": {},
   "outputs": [],
   "source": [
    "A_naive.next_rounds(91-13)"
   ]
  },
  {
   "cell_type": "code",
   "execution_count": 6,
   "metadata": {},
   "outputs": [
    {
     "name": "stdout",
     "output_type": "stream",
     "text": [
      "\n",
      "\n",
      "Upper game value: {'value': 0.5, 'index': 1}\n",
      "Lower game value: {'value': 0.4835164835164836, 'index': 90}\n",
      "\n",
      "Player I optimal strategy: \n",
      "\t[0.27472527472527475, 0.6923076923076923, 0.03296703296703297]\n",
      "Player II optimal strategy: \n",
      "\t[0.5, 0.5, 0.0]\n",
      "\n",
      "  k    i_k  s_k           v_lower_k    j_k  t_k           v_upper_k\n",
      "---  -----  ----------  -----------  -----  ----------  -----------\n",
      "  0      0  [ 2 -1  6]        -1         1  [-1  1  2]     2\n",
      "  1      2  [0 1 7]            0         0  [1 1 0]        0.5\n",
      "  2      0  [ 2  0 13]         0         1  [0 2 2]        0.666667\n",
      "  3      1  [ 2  1 12]         0.25      1  [-1  3  4]     1\n",
      "  4      2  [ 0  3 13]         0         0  [1 3 2]        0.6\n",
      "\n",
      "[...]\n",
      "80 lines skipped... \n",
      "[...]\n",
      "\n",
      "  k    i_k  s_k           v_lower_k    j_k  t_k           v_upper_k\n",
      "---  -----  ----------  -----------  -----  ----------  -----------\n",
      " 85      1  [44 39 95]     0.453488      1  [37 45  8]     0.523256\n",
      " 86      1  [44 40 94]     0.45977       1  [36 46 10]     0.528736\n",
      " 87      1  [44 41 93]     0.465909      1  [35 47 12]     0.534091\n",
      " 88      1  [44 42 92]     0.47191       1  [34 48 14]     0.539326\n",
      " 89      1  [44 43 91]     0.477778      1  [33 49 16]     0.544444\n"
     ]
    }
   ],
   "source": [
    "print(A_naive)"
   ]
  },
  {
   "cell_type": "markdown",
   "metadata": {},
   "source": [
    "Our naive algorithm works!"
   ]
  },
  {
   "cell_type": "markdown",
   "metadata": {},
   "source": [
    "## Serial Improvements\n",
    "A number of improvements on the algorithm come immedialely even:\n",
    "\n",
    " * Storing the entire history is unnecessary. \n",
    "     * The values of $s,t$ are calculated recursively. We only need to keep the current value of each.\n",
    "     * The actual values of $i$ and $j$ do not need to be kept; only their cumulative counts.\n",
    "     * The upper/lower values of $v$ do not need to be kept; only the sup/inf need to be updated.\n",
    " * The sup/inf of $v$ can be updated as needed, rather than calculated by a full search of all historical values.\n",
    " * The optimal strategies can be stored with a divisor; the division only have to occur once."
   ]
  },
  {
   "cell_type": "markdown",
   "metadata": {},
   "source": [
    "The serial algorithm maintains its state in the following variables:\n",
    " * $k$: the round index\n",
    " * *payoff\\_matrix*: an $m \\times n$ payoff matrix\n",
    " * *i\\_counts* and *j\\_counts*: lists of size $m$ and $n$, respectively, that whos' $l$th entry corresponds to the number of times strategy $l$ was played on rounds $(0,\\ldots k)$ (this is an invariant).\n"
   ]
  },
  {
   "cell_type": "code",
   "execution_count": 30,
   "metadata": {},
   "outputs": [],
   "source": [
    "class serial_fp():\n",
    "    def __init__(self, payoff_matrix, initial_i = 0):\n",
    "        self.payoff_matrix = payoff_matrix\n",
    "        \n",
    "        # Round index\n",
    "        self.k = 0\n",
    "        \n",
    "        # Create counts\n",
    "        self.i_counts = np.zeros(payoff_matrix.shape[0])      \n",
    "        self.j_counts = np.zeros(payoff_matrix.shape[1])\n",
    "\n",
    "        ## Initial play\n",
    "        # Initial i\n",
    "        self.i_counts[initial_i] += 1\n",
    "        \n",
    "        # Recursively generated payoffs for player I\n",
    "        self.s = self.payoff_matrix[initial_i]\n",
    "        \n",
    "        # Initialize strategy values for player II\n",
    "        j = np.argmin(self.s)\n",
    "        \n",
    "        # Recursively generated payoffs for player II\n",
    "        self.t = self.payoff_matrix[:,j]\n",
    "        \n",
    "        # The infimum of the v_lower calculated so far\n",
    "        self.inf_v_lower = float(\"-inf\")\n",
    "        # The supremum of the v_upper calculated so far\n",
    "        self.sup_v_upper = float(\"inf\")\n",
    "        \n",
    "        # Optimal strategies at round k\n",
    "        self.player_I_optimal_strategy_with_divisor = [None, None]\n",
    "        self.player_II_optimal_strategy_with_divisor = [None, None]\n",
    "        \n",
    "    def _calculate_player_I_strategy(self, i_counts, sj, k):                \n",
    "        if sj/(k + 1) > self.inf_v_lower:\n",
    "            self.inf_v_lower = sj/(k + 1)\n",
    "            self.player_I_optimal_strategy_with_divisor = [i_counts, k + 1]\n",
    "\n",
    "    def _calculate_player_II_strategy(self, j_counts, ti, k):\n",
    "        if ti/(k) < self.sup_v_upper:\n",
    "            self.sup_v_upper = ti/(k)\n",
    "            self.player_II_optimal_strategy_with_divisor = [j_counts, k]\n",
    "            \n",
    "    def next_rounds(self, rounds = 1):\n",
    "        for _ in range(rounds):\n",
    "            # Increment round\n",
    "            self.k += 1\n",
    "            \n",
    "            # Calculate the best-response and update the count for player I\n",
    "            i = np.argmax(self.t)\n",
    "            self.i_counts[i] += 1\n",
    "            \n",
    "            # Recursively generate incremental payoffs for player I\n",
    "            self.s = self.s + self.payoff_matrix[i]\n",
    "            \n",
    "            # Calculate the best-response and update the count for player II\n",
    "            j = np.argmin(self.s)\n",
    "            self.j_counts[j] += 1\n",
    "            \n",
    "            self._calculate_player_I_strategy(self.i_counts, self.s[j], self.k)\n",
    "            self._calculate_player_II_strategy(self.j_counts, self.t[i], self.k)\n",
    "                        \n",
    "            self.t = self.t + self.payoff_matrix[:, j]   "
   ]
  },
  {
   "cell_type": "markdown",
   "metadata": {},
   "source": [
    "Let us test with $A$:"
   ]
  },
  {
   "cell_type": "code",
   "execution_count": 20,
   "metadata": {},
   "outputs": [],
   "source": [
    "A_sfp = serial_fp(A)\n",
    "A_sfp.next_rounds(12)"
   ]
  },
  {
   "cell_type": "code",
   "execution_count": 21,
   "metadata": {},
   "outputs": [
    {
     "name": "stdout",
     "output_type": "stream",
     "text": [
      "Supremum value on round 13:  0.5\n",
      "Infimum value on round 13:  0.38461538461538464\n",
      "\n",
      "Player I optimal strategy on round 13:  [0.38461538 0.46153846 0.15384615]\n",
      "Player II optimal strategy on round 13:  [0.5 0.5 0. ]\n"
     ]
    }
   ],
   "source": [
    "print(\"Supremum value on round 13: \", A_sfp.sup_v_upper)\n",
    "print(\"Infimum value on round 13: \", A_sfp.inf_v_lower)\n",
    "\n",
    "print(\"\\nPlayer I optimal strategy on round 13: \", A_sfp.player_I_optimal_strategy_with_divisor[0]/A_sfp.player_I_optimal_strategy_with_divisor[1])\n",
    "print(\"Player II optimal strategy on round 13: \", A_sfp.player_II_optimal_strategy_with_divisor[0]/A_sfp.player_II_optimal_strategy_with_divisor[1])"
   ]
  },
  {
   "cell_type": "code",
   "execution_count": 22,
   "metadata": {},
   "outputs": [
    {
     "name": "stdout",
     "output_type": "stream",
     "text": [
      "\n",
      "\n",
      "Upper game value: {'value': 0.5, 'index': 1}\n",
      "Lower game value: {'value': 0.38461538461538464, 'index': 12}\n",
      "\n",
      "Player I optimal strategy: \n",
      "\t[0.38461538461538464, 0.46153846153846156, 0.15384615384615385]\n",
      "Player II optimal strategy: \n",
      "\t[0.5, 0.5, 0.0]\n",
      "\n",
      "  k    i_k  s_k           v_lower_k    j_k  t_k           v_upper_k\n",
      "---  -----  ----------  -----------  -----  ----------  -----------\n",
      "  0      0  [ 2 -1  6]        -1         1  [-1  1  2]     2\n",
      "  1      2  [0 1 7]            0         0  [1 1 0]        0.5\n",
      "  2      0  [ 2  0 13]         0         1  [0 2 2]        0.666667\n",
      "  3      1  [ 2  1 12]         0.25      1  [-1  3  4]     1\n",
      "  4      2  [ 0  3 13]         0         0  [1 3 2]        0.6\n",
      "\n",
      "[...]\n",
      "2 lines skipped... \n",
      "[...]\n",
      "\n",
      "  k    i_k  s_k           v_lower_k    j_k  t_k        v_upper_k\n",
      "---  -----  ----------  -----------  -----  -------  -----------\n",
      "  7      0  [ 4  2 24]     0.25          1  [4 4 0]     0.5\n",
      "  8      0  [ 6  1 30]     0.111111      1  [3 5 2]     0.555556\n",
      "  9      1  [ 6  2 29]     0.2           1  [2 6 4]     0.6\n",
      " 10      1  [ 6  3 28]     0.272727      1  [1 7 6]     0.636364\n",
      " 11      1  [ 6  4 27]     0.333333      1  [0 8 8]     0.666667\n"
     ]
    }
   ],
   "source": [
    "A_naive = naive_fp(A)\n",
    "A_naive.next_rounds(12)\n",
    "print(A_naive)"
   ]
  },
  {
   "cell_type": "markdown",
   "metadata": {},
   "source": [
    "The values match! \n",
    "Let see how much faster we've become:"
   ]
  },
  {
   "cell_type": "code",
   "execution_count": 27,
   "metadata": {},
   "outputs": [
    {
     "name": "stdout",
     "output_type": "stream",
     "text": [
      "CPU times: user 2.73 ms, sys: 985 µs, total: 3.72 ms\n",
      "Wall time: 3.77 ms\n",
      "CPU times: user 92.3 ms, sys: 945 µs, total: 93.3 ms\n",
      "Wall time: 92.6 ms\n",
      "CPU times: user 1.34 s, sys: 0 ns, total: 1.34 s\n",
      "Wall time: 1.34 s\n"
     ]
    },
    {
     "data": {
      "text/plain": [
       "array([2.50204341e-01, 7.49523204e-01, 2.72454818e-04])"
      ]
     },
     "execution_count": 27,
     "metadata": {},
     "output_type": "execute_result"
    }
   ],
   "source": [
    "A_naive = naive_fp(A)\n",
    "%time A_naive.next_rounds(10)\n",
    "%time A_naive.next_rounds(1000)\n",
    "%time A_naive.next_rounds(10000)\n",
    "A_naive.pI_strategy"
   ]
  },
  {
   "cell_type": "code",
   "execution_count": 32,
   "metadata": {},
   "outputs": [
    {
     "name": "stdout",
     "output_type": "stream",
     "text": [
      "CPU times: user 733 µs, sys: 79 µs, total: 812 µs\n",
      "Wall time: 564 µs\n",
      "CPU times: user 44 ms, sys: 4.66 ms, total: 48.6 ms\n",
      "Wall time: 39.5 ms\n",
      "CPU times: user 291 ms, sys: 62.8 ms, total: 354 ms\n",
      "Wall time: 275 ms\n"
     ]
    },
    {
     "data": {
      "text/plain": [
       "array([2.50204341e-01, 7.49523204e-01, 2.72454818e-04])"
      ]
     },
     "execution_count": 32,
     "metadata": {},
     "output_type": "execute_result"
    }
   ],
   "source": [
    "A_sfp = serial_fp(A)\n",
    "%time A_sfp.next_rounds(10)\n",
    "%time A_sfp.next_rounds(1000)\n",
    "%time A_sfp.next_rounds(10000)\n",
    "A_sfp.player_I_optimal_strategy_with_divisor[0]/A_sfp.player_I_optimal_strategy_with_divisor[1]"
   ]
  },
  {
   "cell_type": "markdown",
   "metadata": {},
   "source": [
    "This is a pretty good speed up! Lets see if we can parallelize."
   ]
  },
  {
   "cell_type": "markdown",
   "metadata": {},
   "source": [
    "# Parallelization\n",
    "*(in progress)*"
   ]
  },
  {
   "cell_type": "code",
   "execution_count": 25,
   "metadata": {},
   "outputs": [],
   "source": [
    "import threading\n",
    "import queue\n",
    "\n",
    "class threaded_fp():\n",
    "    def __init__(self, payoff_matrix, initial_i = 0):\n",
    "        self.payoff_matrix = payoff_matrix\n",
    "        \n",
    "        # Round index\n",
    "        self.k = 0\n",
    "        \n",
    "        # Create a FIFO queues and counts\n",
    "        self.i_counts = np.zeros(payoff_matrix.shape[0])\n",
    "        self.i_counts[initial_i] += 1\n",
    "        \n",
    "        self.j_counts_ti_k_queue = queue.Queue()\n",
    "        \n",
    "        self.j_counts = np.zeros(payoff_matrix.shape[1])\n",
    "        self.i_counts_sj_k_queue = queue.Queue()\n",
    "        \n",
    "        \n",
    "        # Initialize queue values\n",
    "        self.j_counts_ti_k_queue.put((0, float(\"inf\"), 1))\n",
    "        \n",
    "        # Recursively generated payoffs for player I\n",
    "        self.s = self.payoff_matrix[initial_i]\n",
    "        \n",
    "        # Initialize strategy values for player II\n",
    "        j = np.argmin(self.s)\n",
    "        self.i_counts_sj_k_queue.put((j, self.s[j], 1))\n",
    "        \n",
    "        # Recursively generated payoffs for player II\n",
    "        self.t = self.payoff_matrix[:,j]\n",
    "        \n",
    "        # The infimum of the v_lower calculated so far\n",
    "        self.inf_v_lower = float(\"-inf\")\n",
    "        # The supremum of the v_upper calculated so far\n",
    "        self.sup_v_upper = float(\"inf\")\n",
    "        \n",
    "        # Optimal strategies at round k\n",
    "        self.player_I_optimal_strategy_with_divisor = [None, None]\n",
    "        self.player_II_optimal_strategy_with_divisor = [None, None]\n",
    "        \n",
    "    def _calculate_player_I_strategy(self):\n",
    "        while True:\n",
    "            i_counts, sj, k = self.i_counts_sj_k_queue.get()                \n",
    "            if sj/(k + 1) > self.inf_v_lower:\n",
    "                self.inf_v_lower = sj/(k + 1)\n",
    "                self.player_I_optimal_strategy_with_divisor = [i_counts, k + 1]\n",
    "\n",
    "    def _calculate_player_II_strategy(self):\n",
    "        while True:\n",
    "            j_counts, ti, k = self.j_counts_ti_k_queue.get()\n",
    "            if ti/(k) < self.sup_v_upper:\n",
    "                self.sup_v_upper = ti/(k)\n",
    "                self.player_II_optimal_strategy_with_divisor = [j_counts, k]\n",
    "            \n",
    "    def next_rounds(self, rounds = 1):\n",
    "        \"\"\"At the start of each round, we've calculated:\n",
    "        i_k, s_k, j_k, t_k\"\"\"\n",
    "        self.pI_strategies = threading.Thread(\n",
    "                                group = None,\n",
    "                                target = self._calculate_player_I_strategy,\n",
    "                                name = 'pI_strategies')\n",
    "        self.pI_strategies.daemon = True\n",
    "        self.pI_strategies.start()\n",
    "            \n",
    "        self.pII_strategies = threading.Thread(\n",
    "                                group = None,\n",
    "                                target = self._calculate_player_II_strategy,\n",
    "                                name = 'pII_strategies')\n",
    "        self.pII_strategies.daemon = True\n",
    "        self.pII_strategies.start()\n",
    "        \n",
    "        for _ in range(rounds):\n",
    "            \n",
    "            # Increment round\n",
    "            self.k += 1\n",
    "            \n",
    "            i = np.argmax(self.t)\n",
    "            self.i_counts[i] += 1\n",
    "            \n",
    "            \n",
    "            # Recursively generated payoffs for player I\n",
    "            self.s = self.s + self.payoff_matrix[i]\n",
    "            \n",
    "            j = np.argmin(self.s)\n",
    "            self.j_counts[j] += 1\n",
    "            \n",
    "            self.j_counts_ti_k_queue.put((self.j_counts, self.t[i], self.k))\n",
    "            self.i_counts_sj_k_queue.put((self.i_counts, self.s[j], self.k))\n",
    "                        \n",
    "            self.t = self.t + self.payoff_matrix[:, j]           "
   ]
  },
  {
   "cell_type": "code",
   "execution_count": 29,
   "metadata": {},
   "outputs": [
    {
     "name": "stdout",
     "output_type": "stream",
     "text": [
      "CPU times: user 1.31 ms, sys: 1.05 ms, total: 2.36 ms\n",
      "Wall time: 2.45 ms\n",
      "CPU times: user 61.1 ms, sys: 11.5 ms, total: 72.6 ms\n",
      "Wall time: 62.8 ms\n",
      "CPU times: user 743 ms, sys: 178 ms, total: 922 ms\n",
      "Wall time: 754 ms\n"
     ]
    },
    {
     "data": {
      "text/plain": [
       "array([2.50204341e-01, 7.49523204e-01, 2.72454818e-04])"
      ]
     },
     "execution_count": 29,
     "metadata": {},
     "output_type": "execute_result"
    }
   ],
   "source": [
    "A_tfp = threaded_fp(A)\n",
    "%time A_tfp.next_rounds(10)\n",
    "%time A_tfp.next_rounds(1000)\n",
    "%time A_tfp.next_rounds(10000)\n",
    "A_tfp.player_I_optimal_strategy_with_divisor[0]/A_tfp.player_I_optimal_strategy_with_divisor[1]"
   ]
  },
  {
   "cell_type": "code",
   "execution_count": 15,
   "metadata": {},
   "outputs": [],
   "source": [
    "R = np.random.rand(10000,10000)"
   ]
  },
  {
   "cell_type": "code",
   "execution_count": 16,
   "metadata": {},
   "outputs": [],
   "source": [
    "R_naive = naive_fp(R)\n",
    "R_serial = serial_fp(R)\n",
    "R_threaded = threaded_fp(R)"
   ]
  },
  {
   "cell_type": "code",
   "execution_count": 17,
   "metadata": {},
   "outputs": [
    {
     "name": "stdout",
     "output_type": "stream",
     "text": [
      "CPU times: user 284 ms, sys: 38.3 ms, total: 323 ms\n",
      "Wall time: 272 ms\n"
     ]
    }
   ],
   "source": [
    "%time R_threaded.next_rounds(1000)"
   ]
  },
  {
   "cell_type": "code",
   "execution_count": 18,
   "metadata": {},
   "outputs": [
    {
     "name": "stdout",
     "output_type": "stream",
     "text": [
      "CPU times: user 197 ms, sys: 531 µs, total: 198 ms\n",
      "Wall time: 206 ms\n"
     ]
    }
   ],
   "source": [
    "%time R_serial.next_rounds(1000)"
   ]
  },
  {
   "cell_type": "code",
   "execution_count": null,
   "metadata": {},
   "outputs": [],
   "source": []
  }
 ],
 "metadata": {
  "kernelspec": {
   "display_name": "Python 3",
   "language": "python",
   "name": "python3"
  },
  "language_info": {
   "codemirror_mode": {
    "name": "ipython",
    "version": 3
   },
   "file_extension": ".py",
   "mimetype": "text/x-python",
   "name": "python",
   "nbconvert_exporter": "python",
   "pygments_lexer": "ipython3",
   "version": "3.7.6"
  }
 },
 "nbformat": 4,
 "nbformat_minor": 2
}
