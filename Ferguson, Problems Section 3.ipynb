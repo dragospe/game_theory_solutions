{
 "cells": [
  {
   "cell_type": "markdown",
   "metadata": {},
   "source": [
    "----\n",
    "# Problem 1\n",
    "\n",
    "Consider the game with matrix $\\begin{pmatrix} -2 & 2 & -1 \\\\ 1 & 1 & 1 \\\\ 3 & 0 & 1 \\end{pmatrix}$\n",
    "\n",
    " * Note that this game has a saddle point\n",
    " * Show that the inverse of the matrix exists\n",
    " * Show that II has an optimal strategy giving positive weight to each of his columns\n",
    " * Why then, don't equations (16) give an optimal strategy for II?"
   ]
  },
  {
   "cell_type": "markdown",
   "metadata": {},
   "source": [
    "*Solution:* The saddle point is in the second row, third column: it is the minimum of the row and maximum of the column. This means the value of the game is 1.\n",
    "\n",
    "Calculating the determinant across the third row gives:\n",
    "\n",
    "$$|A| = 3*(2+1) + (-2-2) = 9-4=5.$$\n",
    "\n",
    "So the matrix is non-singular.\n",
    "\n",
    "\n"
   ]
  },
  {
   "cell_type": "code",
   "execution_count": 1,
   "metadata": {},
   "outputs": [],
   "source": [
    "import numpy as np"
   ]
  },
  {
   "cell_type": "code",
   "execution_count": 2,
   "metadata": {},
   "outputs": [],
   "source": [
    "A =np.array([[-2,2,-1],[1,1,1],[3,0,1]])"
   ]
  },
  {
   "cell_type": "code",
   "execution_count": 10,
   "metadata": {},
   "outputs": [
    {
     "data": {
      "text/plain": [
       "array([[ 0.2, -0.4,  0.6],\n",
       "       [ 0.4,  0.2,  0.2],\n",
       "       [-0.6,  1.2, -0.8]])"
      ]
     },
     "execution_count": 10,
     "metadata": {},
     "output_type": "execute_result"
    }
   ],
   "source": [
    "np.linalg.inv(A)"
   ]
  },
  {
   "cell_type": "markdown",
   "metadata": {},
   "source": [
    "Hence if we want to solve \n",
    "\n",
    "$$\\begin{pmatrix} -2 & 2 & 1 \\\\ 1 & 1 & 1 \\\\ 3 & 0 &1 \\end{pmatrix} \\begin{pmatrix} p_1 \\\\ p_2 \\\\ p_3 \\end{pmatrix} = \\begin{pmatrix} 1 \\\\ 1 \\\\ 1 \\end{pmatrix}$$\n",
    "\n",
    "We do"
   ]
  },
  {
   "cell_type": "code",
   "execution_count": 11,
   "metadata": {},
   "outputs": [],
   "source": [
    "ones = np.full([3,1],1)"
   ]
  },
  {
   "cell_type": "code",
   "execution_count": 20,
   "metadata": {},
   "outputs": [],
   "source": [
    "p = np.array([[1/4],[1/2],[1/4]])"
   ]
  },
  {
   "cell_type": "code",
   "execution_count": 21,
   "metadata": {},
   "outputs": [
    {
     "data": {
      "text/plain": [
       "array([[0.25],\n",
       "       [1.  ],\n",
       "       [1.  ]])"
      ]
     },
     "execution_count": 21,
     "metadata": {},
     "output_type": "execute_result"
    }
   ],
   "source": [
    "np.matmul(A,p)"
   ]
  },
  {
   "cell_type": "markdown",
   "metadata": {},
   "source": [
    "Hence $p=(1/4,1/2,1/4)$ is an optimal strategy. \n",
    "\n",
    "The equations in (16) don't get an optimal strategy for 1, because 1 does not have an optimal strategy giving positive weight to each row."
   ]
  }
 ],
 "metadata": {
  "kernelspec": {
   "display_name": "Python 3",
   "language": "python",
   "name": "python3"
  },
  "language_info": {
   "codemirror_mode": {
    "name": "ipython",
    "version": 3
   },
   "file_extension": ".py",
   "mimetype": "text/x-python",
   "name": "python",
   "nbconvert_exporter": "python",
   "pygments_lexer": "ipython3",
   "version": "3.7.6"
  }
 },
 "nbformat": 4,
 "nbformat_minor": 2
}
